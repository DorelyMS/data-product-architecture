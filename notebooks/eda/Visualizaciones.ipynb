{
 "cells": [
  {
   "cell_type": "code",
   "execution_count": 114,
   "id": "legendary-gospel",
   "metadata": {},
   "outputs": [],
   "source": [
    "import numpy as np\n",
    "import pandas as pd\n",
    "import matplotlib.pyplot as plt\n",
    "import plotly.express as px\n",
    "import seaborn as sns\n",
    "import matplotlib.ticker as mtick"
   ]
  },
  {
   "cell_type": "markdown",
   "id": "medieval-hampshire",
   "metadata": {},
   "source": [
    "Primero se leen los datos históricos"
   ]
  },
  {
   "cell_type": "code",
   "execution_count": 115,
   "id": "completed-medication",
   "metadata": {},
   "outputs": [],
   "source": [
    "df = pd.read_csv('./Food_Inspections.csv')"
   ]
  },
  {
   "cell_type": "markdown",
   "id": "conventional-bundle",
   "metadata": {},
   "source": [
    "## Summary"
   ]
  },
  {
   "cell_type": "code",
   "execution_count": 116,
   "id": "boring-trust",
   "metadata": {},
   "outputs": [
    {
     "data": {
      "text/html": [
       "<div>\n",
       "<style scoped>\n",
       "    .dataframe tbody tr th:only-of-type {\n",
       "        vertical-align: middle;\n",
       "    }\n",
       "\n",
       "    .dataframe tbody tr th {\n",
       "        vertical-align: top;\n",
       "    }\n",
       "\n",
       "    .dataframe thead th {\n",
       "        text-align: right;\n",
       "    }\n",
       "</style>\n",
       "<table border=\"1\" class=\"dataframe\">\n",
       "  <thead>\n",
       "    <tr style=\"text-align: right;\">\n",
       "      <th></th>\n",
       "      <th>Inspection ID</th>\n",
       "      <th>DBA Name</th>\n",
       "      <th>AKA Name</th>\n",
       "      <th>License #</th>\n",
       "      <th>Facility Type</th>\n",
       "      <th>Risk</th>\n",
       "      <th>Address</th>\n",
       "      <th>City</th>\n",
       "      <th>State</th>\n",
       "      <th>Zip</th>\n",
       "      <th>Inspection Date</th>\n",
       "      <th>Inspection Type</th>\n",
       "      <th>Results</th>\n",
       "      <th>Violations</th>\n",
       "      <th>Latitude</th>\n",
       "      <th>Longitude</th>\n",
       "      <th>Location</th>\n",
       "    </tr>\n",
       "  </thead>\n",
       "  <tbody>\n",
       "    <tr>\n",
       "      <th>143131</th>\n",
       "      <td>1361461</td>\n",
       "      <td>PIE-EYED PIZZERIA</td>\n",
       "      <td>PIE-EYED PIZZERIA</td>\n",
       "      <td>1490003.0</td>\n",
       "      <td>Restaurant</td>\n",
       "      <td>Risk 2 (Medium)</td>\n",
       "      <td>1111 W CHICAGO AVE</td>\n",
       "      <td>CHICAGO</td>\n",
       "      <td>IL</td>\n",
       "      <td>60642.0</td>\n",
       "      <td>10/31/2013</td>\n",
       "      <td>Canvass</td>\n",
       "      <td>Pass</td>\n",
       "      <td>33. FOOD AND NON-FOOD CONTACT EQUIPMENT UTENSI...</td>\n",
       "      <td>41.896151</td>\n",
       "      <td>-87.655800</td>\n",
       "      <td>(-87.65579995878325, 41.89615078732556)</td>\n",
       "    </tr>\n",
       "    <tr>\n",
       "      <th>101298</th>\n",
       "      <td>1631289</td>\n",
       "      <td>PORTILLO'S HOT DOGS</td>\n",
       "      <td>PORTILLO'S HOT DOGS</td>\n",
       "      <td>39472.0</td>\n",
       "      <td>Restaurant</td>\n",
       "      <td>Risk 1 (High)</td>\n",
       "      <td>100 W ONTARIO ST</td>\n",
       "      <td>CHICAGO</td>\n",
       "      <td>IL</td>\n",
       "      <td>60654.0</td>\n",
       "      <td>02/03/2016</td>\n",
       "      <td>Complaint</td>\n",
       "      <td>Fail</td>\n",
       "      <td>18. NO EVIDENCE OF RODENT OR INSECT OUTER OPEN...</td>\n",
       "      <td>41.893338</td>\n",
       "      <td>-87.631244</td>\n",
       "      <td>(-87.63124449621304, 41.89333773718407)</td>\n",
       "    </tr>\n",
       "    <tr>\n",
       "      <th>166932</th>\n",
       "      <td>1096608</td>\n",
       "      <td>HYATT REGENCY MCCORMICK PLACE</td>\n",
       "      <td>THIRD STAR/SIXES &amp; EIGHTS/MAIN KITCHEN</td>\n",
       "      <td>63178.0</td>\n",
       "      <td>RESTAURANT/BAR</td>\n",
       "      <td>Risk 1 (High)</td>\n",
       "      <td>2233 S DR MARTIN LUTHER KING JR DR</td>\n",
       "      <td>CHICAGO</td>\n",
       "      <td>IL</td>\n",
       "      <td>60616.0</td>\n",
       "      <td>11/02/2012</td>\n",
       "      <td>Complaint</td>\n",
       "      <td>Fail</td>\n",
       "      <td>18. NO EVIDENCE OF RODENT OR INSECT OUTER OPEN...</td>\n",
       "      <td>41.852076</td>\n",
       "      <td>-87.618851</td>\n",
       "      <td>(-87.61885080391755, 41.852075574499366)</td>\n",
       "    </tr>\n",
       "    <tr>\n",
       "      <th>57998</th>\n",
       "      <td>2129691</td>\n",
       "      <td>WENTWORTH SEAFOOD HOUSE</td>\n",
       "      <td>WENTWORTH SEAFOOD HOUSE</td>\n",
       "      <td>2574484.0</td>\n",
       "      <td>Restaurant</td>\n",
       "      <td>Risk 1 (High)</td>\n",
       "      <td>2229 S WENTWORTH AVE</td>\n",
       "      <td>CHICAGO</td>\n",
       "      <td>IL</td>\n",
       "      <td>60616.0</td>\n",
       "      <td>12/26/2017</td>\n",
       "      <td>License</td>\n",
       "      <td>No Entry</td>\n",
       "      <td>NaN</td>\n",
       "      <td>41.852023</td>\n",
       "      <td>-87.631848</td>\n",
       "      <td>(-87.63184844304722, 41.852023150198406)</td>\n",
       "    </tr>\n",
       "    <tr>\n",
       "      <th>3626</th>\n",
       "      <td>679544</td>\n",
       "      <td>NELSON FOOD &amp; LIQUOR</td>\n",
       "      <td>NELSON FOOD &amp; LIQUOR</td>\n",
       "      <td>2114980.0</td>\n",
       "      <td>Grocery Store</td>\n",
       "      <td>Risk 3 (Low)</td>\n",
       "      <td>3201 W 63RD PL</td>\n",
       "      <td>CHICAGO</td>\n",
       "      <td>IL</td>\n",
       "      <td>60629.0</td>\n",
       "      <td>04/04/2012</td>\n",
       "      <td>License Re-Inspection</td>\n",
       "      <td>Pass</td>\n",
       "      <td>NaN</td>\n",
       "      <td>41.777936</td>\n",
       "      <td>-87.703224</td>\n",
       "      <td>(-87.70322438611822, 41.77793576167579)</td>\n",
       "    </tr>\n",
       "  </tbody>\n",
       "</table>\n",
       "</div>"
      ],
      "text/plain": [
       "        Inspection ID                       DBA Name  \\\n",
       "143131        1361461              PIE-EYED PIZZERIA   \n",
       "101298        1631289            PORTILLO'S HOT DOGS   \n",
       "166932        1096608  HYATT REGENCY MCCORMICK PLACE   \n",
       "57998         2129691        WENTWORTH SEAFOOD HOUSE   \n",
       "3626           679544           NELSON FOOD & LIQUOR   \n",
       "\n",
       "                                      AKA Name  License #   Facility Type  \\\n",
       "143131                       PIE-EYED PIZZERIA  1490003.0      Restaurant   \n",
       "101298                     PORTILLO'S HOT DOGS    39472.0      Restaurant   \n",
       "166932  THIRD STAR/SIXES & EIGHTS/MAIN KITCHEN    63178.0  RESTAURANT/BAR   \n",
       "57998                  WENTWORTH SEAFOOD HOUSE  2574484.0      Restaurant   \n",
       "3626                      NELSON FOOD & LIQUOR  2114980.0   Grocery Store   \n",
       "\n",
       "                   Risk                              Address     City State  \\\n",
       "143131  Risk 2 (Medium)                  1111 W CHICAGO AVE   CHICAGO    IL   \n",
       "101298    Risk 1 (High)                    100 W ONTARIO ST   CHICAGO    IL   \n",
       "166932    Risk 1 (High)  2233 S DR MARTIN LUTHER KING JR DR   CHICAGO    IL   \n",
       "57998     Risk 1 (High)                2229 S WENTWORTH AVE   CHICAGO    IL   \n",
       "3626       Risk 3 (Low)                      3201 W 63RD PL   CHICAGO    IL   \n",
       "\n",
       "            Zip Inspection Date        Inspection Type   Results  \\\n",
       "143131  60642.0      10/31/2013                Canvass      Pass   \n",
       "101298  60654.0      02/03/2016              Complaint      Fail   \n",
       "166932  60616.0      11/02/2012              Complaint      Fail   \n",
       "57998   60616.0      12/26/2017                License  No Entry   \n",
       "3626    60629.0      04/04/2012  License Re-Inspection      Pass   \n",
       "\n",
       "                                               Violations   Latitude  \\\n",
       "143131  33. FOOD AND NON-FOOD CONTACT EQUIPMENT UTENSI...  41.896151   \n",
       "101298  18. NO EVIDENCE OF RODENT OR INSECT OUTER OPEN...  41.893338   \n",
       "166932  18. NO EVIDENCE OF RODENT OR INSECT OUTER OPEN...  41.852076   \n",
       "57998                                                 NaN  41.852023   \n",
       "3626                                                  NaN  41.777936   \n",
       "\n",
       "        Longitude                                  Location  \n",
       "143131 -87.655800   (-87.65579995878325, 41.89615078732556)  \n",
       "101298 -87.631244   (-87.63124449621304, 41.89333773718407)  \n",
       "166932 -87.618851  (-87.61885080391755, 41.852075574499366)  \n",
       "57998  -87.631848  (-87.63184844304722, 41.852023150198406)  \n",
       "3626   -87.703224   (-87.70322438611822, 41.77793576167579)  "
      ]
     },
     "execution_count": 116,
     "metadata": {},
     "output_type": "execute_result"
    }
   ],
   "source": [
    "df.sample(5,random_state=2020)"
   ]
  },
  {
   "cell_type": "code",
   "execution_count": 117,
   "id": "elegant-charter",
   "metadata": {},
   "outputs": [
    {
     "data": {
      "text/plain": [
       "(215067, 17)"
      ]
     },
     "execution_count": 117,
     "metadata": {},
     "output_type": "execute_result"
    }
   ],
   "source": [
    "df.shape"
   ]
  },
  {
   "cell_type": "markdown",
   "id": "proud-pathology",
   "metadata": {},
   "source": [
    "## Preprocesamiento\n",
    "\n",
    "Se hace una limpieza en los nombres de columnas, em los datos y un preprocesamiento rápido para mejorar las visualizaciones del EDA."
   ]
  },
  {
   "cell_type": "code",
   "execution_count": 118,
   "id": "immune-manner",
   "metadata": {},
   "outputs": [],
   "source": [
    "def estandariza_variables(archivo):\n",
    "    columnas_antes=archivo.columns\n",
    "    archivo.columns=archivo.columns.str.replace(' ','_')\n",
    "    archivo.columns=archivo.columns.str.replace('#','num')\n",
    "    archivo.columns=archivo.columns.str.lower()\n",
    "    print('Las variables originales son:\\n\\n',columnas_antes,'\\n','\\nY se renombran como:\\n\\n',archivo.columns)"
   ]
  },
  {
   "cell_type": "code",
   "execution_count": 119,
   "id": "excited-camel",
   "metadata": {},
   "outputs": [
    {
     "name": "stdout",
     "output_type": "stream",
     "text": [
      "Las variables originales son:\n",
      "\n",
      " Index(['Inspection ID', 'DBA Name', 'AKA Name', 'License #', 'Facility Type',\n",
      "       'Risk', 'Address', 'City', 'State', 'Zip', 'Inspection Date',\n",
      "       'Inspection Type', 'Results', 'Violations', 'Latitude', 'Longitude',\n",
      "       'Location'],\n",
      "      dtype='object') \n",
      " \n",
      "Y se renombran como:\n",
      "\n",
      " Index(['inspection_id', 'dba_name', 'aka_name', 'license_num', 'facility_type',\n",
      "       'risk', 'address', 'city', 'state', 'zip', 'inspection_date',\n",
      "       'inspection_type', 'results', 'violations', 'latitude', 'longitude',\n",
      "       'location'],\n",
      "      dtype='object')\n"
     ]
    }
   ],
   "source": [
    "estandariza_variables(df)"
   ]
  },
  {
   "cell_type": "markdown",
   "id": "standard-documentation",
   "metadata": {},
   "source": [
    "Luego pasamos los datos a minúsculas:"
   ]
  },
  {
   "cell_type": "code",
   "execution_count": 120,
   "id": "peaceful-hearing",
   "metadata": {},
   "outputs": [],
   "source": [
    "def cambiar_minusculas_variable(archivo,variable):\n",
    "    archivo[variable]=archivo[variable].str.lower()"
   ]
  },
  {
   "cell_type": "code",
   "execution_count": 121,
   "id": "theoretical-vehicle",
   "metadata": {},
   "outputs": [],
   "source": [
    "cambiar_minusculas_variable(df,'dba_name')\n",
    "cambiar_minusculas_variable(df,'aka_name')\n",
    "cambiar_minusculas_variable(df,'facility_type')\n",
    "cambiar_minusculas_variable(df,'risk')\n",
    "cambiar_minusculas_variable(df,'address')\n",
    "cambiar_minusculas_variable(df,'city')\n",
    "cambiar_minusculas_variable(df,'state')\n",
    "cambiar_minusculas_variable(df,'inspection_type')\n",
    "cambiar_minusculas_variable(df,'results')\n",
    "cambiar_minusculas_variable(df,'violations')"
   ]
  },
  {
   "cell_type": "markdown",
   "id": "seeing-amplifier",
   "metadata": {},
   "source": [
    "Verificamos el tipo de dato para cada columna."
   ]
  },
  {
   "cell_type": "code",
   "execution_count": 122,
   "id": "furnished-lloyd",
   "metadata": {},
   "outputs": [],
   "source": [
    "def tipo_variables(archivo):\n",
    "    print('\\nTipo de variables:\\n', archivo.dtypes)"
   ]
  },
  {
   "cell_type": "code",
   "execution_count": 123,
   "id": "interstate-seminar",
   "metadata": {},
   "outputs": [
    {
     "name": "stdout",
     "output_type": "stream",
     "text": [
      "\n",
      "Tipo de variables:\n",
      " inspection_id        int64\n",
      "dba_name            object\n",
      "aka_name            object\n",
      "license_num        float64\n",
      "facility_type       object\n",
      "risk                object\n",
      "address             object\n",
      "city                object\n",
      "state               object\n",
      "zip                float64\n",
      "inspection_date     object\n",
      "inspection_type     object\n",
      "results             object\n",
      "violations          object\n",
      "latitude           float64\n",
      "longitude          float64\n",
      "location            object\n",
      "dtype: object\n"
     ]
    }
   ],
   "source": [
    "tipo_variables(df)"
   ]
  },
  {
   "cell_type": "markdown",
   "id": "comfortable-consumer",
   "metadata": {},
   "source": [
    "Y corregimos los tipos de datos de las variables al correcto de acuerdo a la descripción de las variables:"
   ]
  },
  {
   "cell_type": "code",
   "execution_count": 124,
   "id": "young-upset",
   "metadata": {},
   "outputs": [],
   "source": [
    "df['inspection_id']=df['inspection_id'].astype('str')\n",
    "df['license_num']=df['license_num'].astype('str')\n",
    "df['zip']=df['zip'].astype('str')\n",
    "df['license_num']=df['license_num'].astype('str')\n",
    "df['inspection_date'] = pd.to_datetime(df['inspection_date'], format='%m/%d/%Y')"
   ]
  },
  {
   "cell_type": "code",
   "execution_count": 125,
   "id": "french-lindsay",
   "metadata": {},
   "outputs": [
    {
     "name": "stdout",
     "output_type": "stream",
     "text": [
      "\n",
      "Tipo de variables:\n",
      " inspection_id              object\n",
      "dba_name                   object\n",
      "aka_name                   object\n",
      "license_num                object\n",
      "facility_type              object\n",
      "risk                       object\n",
      "address                    object\n",
      "city                       object\n",
      "state                      object\n",
      "zip                        object\n",
      "inspection_date    datetime64[ns]\n",
      "inspection_type            object\n",
      "results                    object\n",
      "violations                 object\n",
      "latitude                  float64\n",
      "longitude                 float64\n",
      "location                   object\n",
      "dtype: object\n"
     ]
    }
   ],
   "source": [
    "tipo_variables(df)"
   ]
  },
  {
   "cell_type": "markdown",
   "id": "persistent-conversation",
   "metadata": {},
   "source": [
    "Quedando de la siguiente forma:"
   ]
  },
  {
   "cell_type": "code",
   "execution_count": 126,
   "id": "insured-ethnic",
   "metadata": {},
   "outputs": [
    {
     "data": {
      "text/html": [
       "<div>\n",
       "<style scoped>\n",
       "    .dataframe tbody tr th:only-of-type {\n",
       "        vertical-align: middle;\n",
       "    }\n",
       "\n",
       "    .dataframe tbody tr th {\n",
       "        vertical-align: top;\n",
       "    }\n",
       "\n",
       "    .dataframe thead th {\n",
       "        text-align: right;\n",
       "    }\n",
       "</style>\n",
       "<table border=\"1\" class=\"dataframe\">\n",
       "  <thead>\n",
       "    <tr style=\"text-align: right;\">\n",
       "      <th></th>\n",
       "      <th>inspection_id</th>\n",
       "      <th>dba_name</th>\n",
       "      <th>aka_name</th>\n",
       "      <th>license_num</th>\n",
       "      <th>facility_type</th>\n",
       "      <th>risk</th>\n",
       "      <th>address</th>\n",
       "      <th>city</th>\n",
       "      <th>state</th>\n",
       "      <th>zip</th>\n",
       "      <th>inspection_date</th>\n",
       "      <th>inspection_type</th>\n",
       "      <th>results</th>\n",
       "      <th>violations</th>\n",
       "      <th>latitude</th>\n",
       "      <th>longitude</th>\n",
       "      <th>location</th>\n",
       "    </tr>\n",
       "  </thead>\n",
       "  <tbody>\n",
       "    <tr>\n",
       "      <th>143131</th>\n",
       "      <td>1361461</td>\n",
       "      <td>pie-eyed pizzeria</td>\n",
       "      <td>pie-eyed pizzeria</td>\n",
       "      <td>1490003.0</td>\n",
       "      <td>restaurant</td>\n",
       "      <td>risk 2 (medium)</td>\n",
       "      <td>1111 w chicago ave</td>\n",
       "      <td>chicago</td>\n",
       "      <td>il</td>\n",
       "      <td>60642.0</td>\n",
       "      <td>2013-10-31</td>\n",
       "      <td>canvass</td>\n",
       "      <td>pass</td>\n",
       "      <td>33. food and non-food contact equipment utensi...</td>\n",
       "      <td>41.896151</td>\n",
       "      <td>-87.655800</td>\n",
       "      <td>(-87.65579995878325, 41.89615078732556)</td>\n",
       "    </tr>\n",
       "    <tr>\n",
       "      <th>101298</th>\n",
       "      <td>1631289</td>\n",
       "      <td>portillo's hot dogs</td>\n",
       "      <td>portillo's hot dogs</td>\n",
       "      <td>39472.0</td>\n",
       "      <td>restaurant</td>\n",
       "      <td>risk 1 (high)</td>\n",
       "      <td>100 w ontario st</td>\n",
       "      <td>chicago</td>\n",
       "      <td>il</td>\n",
       "      <td>60654.0</td>\n",
       "      <td>2016-02-03</td>\n",
       "      <td>complaint</td>\n",
       "      <td>fail</td>\n",
       "      <td>18. no evidence of rodent or insect outer open...</td>\n",
       "      <td>41.893338</td>\n",
       "      <td>-87.631244</td>\n",
       "      <td>(-87.63124449621304, 41.89333773718407)</td>\n",
       "    </tr>\n",
       "    <tr>\n",
       "      <th>166932</th>\n",
       "      <td>1096608</td>\n",
       "      <td>hyatt regency mccormick place</td>\n",
       "      <td>third star/sixes &amp; eights/main kitchen</td>\n",
       "      <td>63178.0</td>\n",
       "      <td>restaurant/bar</td>\n",
       "      <td>risk 1 (high)</td>\n",
       "      <td>2233 s dr martin luther king jr dr</td>\n",
       "      <td>chicago</td>\n",
       "      <td>il</td>\n",
       "      <td>60616.0</td>\n",
       "      <td>2012-11-02</td>\n",
       "      <td>complaint</td>\n",
       "      <td>fail</td>\n",
       "      <td>18. no evidence of rodent or insect outer open...</td>\n",
       "      <td>41.852076</td>\n",
       "      <td>-87.618851</td>\n",
       "      <td>(-87.61885080391755, 41.852075574499366)</td>\n",
       "    </tr>\n",
       "    <tr>\n",
       "      <th>57998</th>\n",
       "      <td>2129691</td>\n",
       "      <td>wentworth seafood house</td>\n",
       "      <td>wentworth seafood house</td>\n",
       "      <td>2574484.0</td>\n",
       "      <td>restaurant</td>\n",
       "      <td>risk 1 (high)</td>\n",
       "      <td>2229 s wentworth ave</td>\n",
       "      <td>chicago</td>\n",
       "      <td>il</td>\n",
       "      <td>60616.0</td>\n",
       "      <td>2017-12-26</td>\n",
       "      <td>license</td>\n",
       "      <td>no entry</td>\n",
       "      <td>NaN</td>\n",
       "      <td>41.852023</td>\n",
       "      <td>-87.631848</td>\n",
       "      <td>(-87.63184844304722, 41.852023150198406)</td>\n",
       "    </tr>\n",
       "    <tr>\n",
       "      <th>3626</th>\n",
       "      <td>679544</td>\n",
       "      <td>nelson food &amp; liquor</td>\n",
       "      <td>nelson food &amp; liquor</td>\n",
       "      <td>2114980.0</td>\n",
       "      <td>grocery store</td>\n",
       "      <td>risk 3 (low)</td>\n",
       "      <td>3201 w 63rd pl</td>\n",
       "      <td>chicago</td>\n",
       "      <td>il</td>\n",
       "      <td>60629.0</td>\n",
       "      <td>2012-04-04</td>\n",
       "      <td>license re-inspection</td>\n",
       "      <td>pass</td>\n",
       "      <td>NaN</td>\n",
       "      <td>41.777936</td>\n",
       "      <td>-87.703224</td>\n",
       "      <td>(-87.70322438611822, 41.77793576167579)</td>\n",
       "    </tr>\n",
       "  </tbody>\n",
       "</table>\n",
       "</div>"
      ],
      "text/plain": [
       "       inspection_id                       dba_name  \\\n",
       "143131       1361461              pie-eyed pizzeria   \n",
       "101298       1631289            portillo's hot dogs   \n",
       "166932       1096608  hyatt regency mccormick place   \n",
       "57998        2129691        wentworth seafood house   \n",
       "3626          679544           nelson food & liquor   \n",
       "\n",
       "                                      aka_name license_num   facility_type  \\\n",
       "143131                       pie-eyed pizzeria   1490003.0      restaurant   \n",
       "101298                     portillo's hot dogs     39472.0      restaurant   \n",
       "166932  third star/sixes & eights/main kitchen     63178.0  restaurant/bar   \n",
       "57998                  wentworth seafood house   2574484.0      restaurant   \n",
       "3626                      nelson food & liquor   2114980.0   grocery store   \n",
       "\n",
       "                   risk                              address     city state  \\\n",
       "143131  risk 2 (medium)                  1111 w chicago ave   chicago    il   \n",
       "101298    risk 1 (high)                    100 w ontario st   chicago    il   \n",
       "166932    risk 1 (high)  2233 s dr martin luther king jr dr   chicago    il   \n",
       "57998     risk 1 (high)                2229 s wentworth ave   chicago    il   \n",
       "3626       risk 3 (low)                      3201 w 63rd pl   chicago    il   \n",
       "\n",
       "            zip inspection_date        inspection_type   results  \\\n",
       "143131  60642.0      2013-10-31                canvass      pass   \n",
       "101298  60654.0      2016-02-03              complaint      fail   \n",
       "166932  60616.0      2012-11-02              complaint      fail   \n",
       "57998   60616.0      2017-12-26                license  no entry   \n",
       "3626    60629.0      2012-04-04  license re-inspection      pass   \n",
       "\n",
       "                                               violations   latitude  \\\n",
       "143131  33. food and non-food contact equipment utensi...  41.896151   \n",
       "101298  18. no evidence of rodent or insect outer open...  41.893338   \n",
       "166932  18. no evidence of rodent or insect outer open...  41.852076   \n",
       "57998                                                 NaN  41.852023   \n",
       "3626                                                  NaN  41.777936   \n",
       "\n",
       "        longitude                                  location  \n",
       "143131 -87.655800   (-87.65579995878325, 41.89615078732556)  \n",
       "101298 -87.631244   (-87.63124449621304, 41.89333773718407)  \n",
       "166932 -87.618851  (-87.61885080391755, 41.852075574499366)  \n",
       "57998  -87.631848  (-87.63184844304722, 41.852023150198406)  \n",
       "3626   -87.703224   (-87.70322438611822, 41.77793576167579)  "
      ]
     },
     "execution_count": 126,
     "metadata": {},
     "output_type": "execute_result"
    }
   ],
   "source": [
    "df.sample(5,random_state=2020)"
   ]
  },
  {
   "cell_type": "markdown",
   "id": "alert-david",
   "metadata": {},
   "source": [
    "Luego revisamos los posibles valores de la variable con el resultado de la inspección:"
   ]
  },
  {
   "cell_type": "code",
   "execution_count": 127,
   "id": "athletic-terror",
   "metadata": {},
   "outputs": [
    {
     "data": {
      "text/plain": [
       "array(['no entry', 'pass', 'out of business', 'fail',\n",
       "       'pass w/ conditions', 'not ready', 'business not located'],\n",
       "      dtype=object)"
      ]
     },
     "execution_count": 127,
     "metadata": {},
     "output_type": "execute_result"
    }
   ],
   "source": [
    "df.results.unique()"
   ]
  },
  {
   "cell_type": "code",
   "execution_count": 128,
   "id": "sunset-accounting",
   "metadata": {},
   "outputs": [],
   "source": [
    "dic_results = {'pass': 'pass',\n",
    "               'out of business': 'others',\n",
    "               'no entry': 'others',\n",
    "               'fail': 'fail',\n",
    "               'not ready': 'others',\n",
    "               'pass w/ conditions': 'pass w/ conditions',\n",
    "               'business not located': 'others'}\n",
    "df['results_des'] = df['results']\n",
    "df['results'] = df.results.map(dic_results)"
   ]
  },
  {
   "cell_type": "code",
   "execution_count": 129,
   "id": "fiscal-elder",
   "metadata": {},
   "outputs": [],
   "source": [
    "colores = ['red', 'blue', 'green', 'yellow']"
   ]
  },
  {
   "cell_type": "markdown",
   "id": "engaged-thomas",
   "metadata": {},
   "source": [
    "## GEDA"
   ]
  },
  {
   "cell_type": "markdown",
   "id": "specified-reasoning",
   "metadata": {},
   "source": [
    "### Mapa"
   ]
  },
  {
   "cell_type": "markdown",
   "id": "fatty-interval",
   "metadata": {},
   "source": [
    "En el mapa se muestra la ubicación de todos los restaurantes, distinguiendo los distintos tipos de resultados de la Inspección. Dado que el mapa es interactivo, no fue posible mantener visible el mapa por lo que agregamos una imagen del mismo después de código que genera dicho mapa:"
   ]
  },
  {
   "cell_type": "code",
   "execution_count": 130,
   "id": "continuous-wayne",
   "metadata": {},
   "outputs": [
    {
     "data": {
      "text/plain": [
       "array(['others', 'pass', 'fail', 'pass w/ conditions'], dtype=object)"
      ]
     },
     "execution_count": 130,
     "metadata": {},
     "output_type": "execute_result"
    }
   ],
   "source": [
    "df.results.unique()"
   ]
  },
  {
   "cell_type": "code",
   "execution_count": 131,
   "id": "needed-plaintiff",
   "metadata": {},
   "outputs": [
    {
     "data": {
      "application/vnd.plotly.v1+json": {
       "config": {
        "plotlyServerURL": "https://plot.ly"
       },
       "data": [
        {
         "hovertemplate": "<b>%{hovertext}</b><br><br>results=fail<br>latitude=%{lat}<br>longitude=%{lon}<extra></extra>",
         "hovertext": [
          "pupuseria metapan restaurant",
          "fresh market place",
          "nineveh mart & meat",
          "nea agora packing company, inc.",
          "godess and grocer",
          "sharks fish chicken and tonys philly steaks",
          "taqueria jarabe",
          "l & p liquors",
          "new orleans seafood",
          "joy's",
          "trio",
          "meenari oriental restaurant",
          "el taconazo  la fiesta inc.",
          "subway",
          "lashon's angelic learning center llc",
          "chayhana",
          "yummy yummy asian cuisine",
          "double happiness",
          "tequila cj restaurant",
          "al waleema",
          "7 eleven",
          "raffi's locale italian cucina",
          "jet's pizza",
          "golden crust pizzeria",
          "popye's #867",
          "taqueria el ranchito",
          "himalayan - curry and pizza",
          "jimmy johns gourmet sandwiches",
          "pizza hut",
          "chicago pizza joint",
          "hyderabad house",
          "vntofu fast food, inc.",
          "eataly",
          "julius-meinl",
          "tortilleria atotonilco, inc",
          "leamington foods inc",
          "janson's drive in",
          "kevin's hamburger heaven",
          "okami sushi",
          "el nuevo taconazo, inc.",
          "danang kitchen",
          "pho 777 restaurant",
          "protein bar",
          "uncle remus plus guilty pleasures",
          "leamington foods inc",
          "chitown sandwich club",
          "su nueva casa del gallo bravo, inc.",
          "andys fruit ranch",
          "bryn mawr fresh market",
          "subway sandwiches",
          "tequila cj restaurant",
          "goddess rocks",
          "see thru chinese restaurant",
          "new orleans seafood",
          "pizza boy",
          "sandy's bakery & deli",
          "starbucks coffee",
          "einstein bros. bagels",
          "west town bakery",
          null,
          "buena vista restaurant",
          "mexicolombia",
          "leamington foods inc",
          "save-a-lot",
          "su taqueria thaly's",
          "groundswell cafe",
          "north ave falafel",
          "mr. d's snack shop",
          "white castle system, inc.",
          "hot dog station",
          "lucha cafe"
         ],
         "lat": [
          41.9456334386168,
          41.92093214697868,
          41.99763496349434,
          41.86958371785205,
          41.89992381117936,
          41.72199044732248,
          41.87161089478699,
          41.96813178484842,
          41.97339650923979,
          41.94171290343118,
          41.897839232091,
          41.982922834178616,
          41.92949530063107,
          41.93614191193037,
          41.9022123009897,
          41.95394859951932,
          41.93527996155769,
          41.97316839903074,
          41.79675218648316,
          41.95929323148519,
          41.88583768769826,
          41.95243739681394,
          41.91274014775508,
          41.96535307618747,
          41.808780247267606,
          41.93265693660558,
          41.92387940553193,
          41.93085131518802,
          41.80861587986066,
          41.96415807203445,
          41.997688426542666,
          41.97340592064704,
          41.89239475098296,
          41.96159241920592,
          41.80846879520972,
          41.866497308125936,
          41.71356989935203,
          41.82363599819552,
          41.90912535950116,
          41.7866229573586,
          41.97319036182206,
          41.97316727673406,
          41.89490330235543,
          41.88040118054544,
          41.866497308125936,
          41.935452917475686,
          41.96842384760016,
          41.96762915968896,
          41.98313727330595,
          42.01942088064485,
          41.79675218648316,
          41.89992381117936,
          41.902029722868406,
          41.97339650923979,
          42.00258143308993,
          41.967578162072144,
          41.89094361522157,
          41.89743861270861,
          41.94786410272433,
          41.91075186559687,
          41.93905792622148,
          41.818377048534536,
          41.866497308125936,
          41.874537312208965,
          41.93834100224705,
          41.96992104744266,
          41.90912708426858,
          41.93102456512979,
          41.88064565374098,
          41.96785571643644,
          41.92876724129143
         ],
         "legendgroup": "fail",
         "lon": [
          -87.7792851916802,
          -87.68766600883245,
          -87.7016813774542,
          -87.65325852479262,
          -87.73868335454733,
          -87.61479359427581,
          -87.6860303713524,
          -87.72808675595967,
          -87.65679874855937,
          -87.64430633617879,
          -87.63736478047242,
          -87.71178201064723,
          -87.7663302984316,
          -87.72695212607006,
          -87.74884541003385,
          -87.68539017232962,
          -87.64409274536888,
          -87.65736357565746,
          -87.75639619526761,
          -87.72792705052548,
          -87.62591897202392,
          -87.81649552747085,
          -87.80575059884977,
          -87.70852522642963,
          -87.65995685711123,
          -87.71305610116421,
          -87.6467837684582,
          -87.7877556545619,
          -87.67638448034334,
          -87.83683754944124,
          -87.68600797350257,
          -87.65601157540186,
          -87.62641533543558,
          -87.67683111023659,
          -87.6677274811442,
          -87.7073377871256,
          -87.68198572204422,
          -87.64082111787692,
          -87.79562029285854,
          -87.70321119979786,
          -87.65575295517391,
          -87.65743782380991,
          -87.62074372623964,
          -87.74408951751022,
          -87.7073377871256,
          -87.64686341693728,
          -87.72135178109974,
          -87.70830368730081,
          -87.71212570105737,
          -87.68969083947009,
          -87.75639619526761,
          -87.73868335454733,
          -87.76602278744853,
          -87.65679874855937,
          -87.81607036079886,
          -87.77472139648694,
          -87.61754059260844,
          -87.62564026554416,
          -87.65721629118914,
          -87.66689090396886,
          -87.6442187510171,
          -87.69702213922287,
          -87.7073377871256,
          -87.7255969016521,
          -87.77635804996433,
          -87.67907166391261,
          -87.79549071389428,
          -87.79289008821847,
          -87.72337093987873,
          -87.7134972229382,
          -87.7660071056267
         ],
         "marker": {
          "color": "red",
          "opacity": 0.8
         },
         "mode": "markers",
         "name": "fail",
         "showlegend": true,
         "subplot": "mapbox",
         "type": "scattermapbox"
        },
        {
         "hovertemplate": "<b>%{hovertext}</b><br><br>results=pass<br>latitude=%{lat}<br>longitude=%{lon}<extra></extra>",
         "hovertext": [
          "taqueria el ranchito",
          "burger king #7623",
          "dollar tree",
          "starbucks",
          "chicago smoke",
          "111th food mart",
          "roti",
          "klein's bakery & cafe",
          "potbelly sandwich works llc",
          "nutella",
          "ay carbon pollo grill",
          "salazar bilingual ed. ctr",
          "lacoco's pizza & wings",
          "xocome antojeria",
          "atrium events",
          "dunkin donuts / baskin & robbins",
          "fontano's sub",
          "potbelly sandwiches",
          "see thru chinese restaurant",
          "tequila cj restaurant",
          "gzn infant suite",
          "atrium events",
          "bitter pops",
          "shell food mart",
          "always thai",
          "subway",
          "taco bell",
          "aje cafe",
          "erie neighborhood house",
          "fresh market place",
          "mcdonald's",
          "taco bell",
          "atrium events",
          "necessary & sufficient coffee",
          "billy goat tavern & grill",
          "subway",
          "burger king",
          "wendy's",
          "the churro waffle",
          "hana restaurant",
          "jeffery chicken & sub",
          "panaderia guatemalteca",
          "dunkin donuts/baskin robbins",
          "mr. d's snack shop",
          "jimmy johns sandwich shops",
          "7-11",
          "jenner academy for the arts",
          "till  (south bldg)",
          "chick-fil-a at bucktown (il) fsr",
          "jimmy john's",
          "taqueria las flores",
          "eggys",
          "mariscos la costa",
          "okami sushi",
          "giordano's",
          "montessori magpie",
          "7 eleven",
          "chick-fil-a",
          "afc sushi @ jewel osco #3234",
          "mcdonalds",
          "subway",
          "panda express",
          "nellies",
          "afc sushi@jewel osco #3470",
          "bitter pops",
          "brasil legal",
          "university children's center",
          "subway",
          "tequila cj restaurant",
          "avanti caffe",
          "tobacco land",
          "el pueblito mexican grill",
          "light house",
          "bp & subway",
          "subway",
          "steak n' shake",
          "big boy gyros",
          "oasis cafe",
          "caffecafe",
          "bitter pops",
          "blackwood bbq",
          "cermak produce no.4",
          "hyderabad house",
          "the momo world",
          "popeyes",
          "james monroe elementary",
          "the hat",
          "subway",
          "jewel food store #3234",
          "boxcar bettys",
          "gan shalom (temple sholom)",
          "el nuevo taconazo, inc.",
          "andrisi's",
          "jimmy johns",
          "janik's cafe",
          "subway sandwich store",
          "la condesa",
          "saigon sisters",
          "wendy's",
          "millennial mart",
          "subway",
          "m & g char grill",
          "fourth church day school",
          "the little folks daycare",
          "protein bar",
          "gold coast market",
          "janson's drive in",
          "lacoco's pizza & wings",
          "kimball mini market",
          "byrons kitchens",
          "potbelly sandwich shop",
          "flat top grill",
          "big & little's",
          "grk greek kitchen",
          "jimmy johns",
          "7-11",
          "delightful pastries",
          "chief",
          "eataly",
          "the goddess and grocer",
          "chief",
          "kawayan",
          "7 - eleven",
          "subway",
          "king of cups",
          "subway",
          "panera bread",
          "leamington foods inc",
          "south loop market"
         ],
         "lat": [
          41.93265693660558,
          41.72107251262758,
          41.7998344238418,
          41.89638650437739,
          41.85045102427,
          41.692157238737,
          41.88584720870456,
          41.95845951159845,
          41.88555516950279,
          41.88454011059238,
          41.79875025743268,
          41.90144444659322,
          41.80817609033046,
          41.80010753541636,
          41.96047630495004,
          41.88222093835454,
          41.72090692029151,
          41.911216984345366,
          41.902029722868406,
          41.79675218648316,
          41.76565733973402,
          41.96047630495004,
          41.9430337588967,
          41.93886570309361,
          41.954093028764525,
          41.91729424455668,
          41.84803753161119,
          41.93591438057569,
          41.89500554624363,
          41.92093214697868,
          41.75093165729936,
          41.866463843723054,
          41.96047630495004,
          41.928351529514096,
          41.8858384517594,
          41.88917219233801,
          41.93173123599631,
          41.92218252544952,
          41.95385497271024,
          41.86926179479487,
          41.76635780337294,
          41.96045577105616,
          41.90995065493004,
          41.93102456512979,
          41.94306905085418,
          41.965791672217485,
          41.90205805089518,
          41.77544062472892,
          41.92515644072539,
          41.89639200221643,
          41.975805123578695,
          41.88539004666972,
          41.90253929964079,
          41.90912535950116,
          42.003062035390926,
          41.89713189353226,
          41.88583768769826,
          41.86878882228545,
          41.90400774905801,
          41.88371685128181,
          41.70630132759062,
          41.885353703982936,
          41.90310359416673,
          41.946057604016254,
          41.9430337588967,
          41.921592541606095,
          41.89357131013786,
          41.91593071729015,
          41.79675218648316,
          41.878227703089095,
          41.91998569775369,
          41.97504399270979,
          41.98252569759227,
          41.89633573431188,
          41.88539004666972,
          41.86481081595784,
          41.94613640047224,
          41.88256706583192,
          41.886707555069805,
          41.9430337588967,
          41.879272838776735,
          41.910132240414285,
          41.997688426542666,
          41.86468356389474,
          41.923739299500106,
          41.929961346561306,
          41.91073660901789,
          41.95407306311155,
          41.90400774905801,
          41.91063613478286,
          41.94609839553065,
          41.7866229573586,
          41.77764909899739,
          41.895062395602416,
          41.90307250619249,
          41.99767707665171,
          41.899818661508206,
          41.89490330235543,
          41.90948219149137,
          41.89812004046833,
          41.88502983462608,
          41.95409491446792,
          41.89848890902573,
          41.76271170146485,
          41.87842162672269,
          41.8965294551304,
          41.71356989935203,
          41.80817609033046,
          41.91543651709187,
          41.95436836115346,
          41.9108947798037,
          41.88133480594687,
          41.89826880919385,
          41.89490330235543,
          41.878223241518086,
          41.965791672217485,
          41.96756177658966,
          41.88682938415869,
          41.89239475098296,
          41.89875668638562,
          41.88682938415869,
          41.96939422175831,
          41.88683151231688,
          41.928524158413744,
          41.922698654947936,
          41.93881423391841,
          41.87684171027662,
          41.866497308125936,
          41.924017757585965
         ],
         "legendgroup": "pass",
         "lon": [
          -87.71305610116421,
          -87.66493899346078,
          -87.72320456094785,
          -87.64127960011128,
          -87.65879785567869,
          -87.64979625345944,
          -87.62509485736301,
          -87.65287375436044,
          -87.62808272516106,
          -87.62430852246028,
          -87.72346641018879,
          -87.63373911746031,
          -87.70825160442028,
          -87.7344682734755,
          -87.67379931767802,
          -87.626365167586,
          -87.67684433217723,
          -87.67733343718919,
          -87.76602278744853,
          -87.75639619526761,
          -87.61194442332632,
          -87.67379931767802,
          -87.67084228253808,
          -87.72325921471953,
          -87.67519473163885,
          -87.70654528949485,
          -87.68567385649257,
          -87.64758150382741,
          -87.6698132252846,
          -87.68766600883245,
          -87.68301753189526,
          -87.71017082981336,
          -87.67379931767802,
          -87.71809710408122,
          -87.62584164558255,
          -87.6371099271468,
          -87.7398542198634,
          -87.69539385024225,
          -87.7000724672253,
          -87.65965077399696,
          -87.57573590407468,
          -87.75414848044049,
          -87.71124469373261,
          -87.79289008821847,
          -87.68152314988973,
          -87.68867076537488,
          -87.64101894094065,
          -87.60932094741847,
          -87.67629352100445,
          -87.6408871858314,
          -87.7132619526397,
          -87.61898671163952,
          -87.66761746288638,
          -87.79562029285854,
          -87.81637371807534,
          -87.66717395751905,
          -87.62591897202392,
          -87.64091692235533,
          -87.63161084494463,
          -87.62608622451462,
          -87.70063465826235,
          -87.62641328540737,
          -87.68934332266758,
          -87.70823010980484,
          -87.67084228253808,
          -87.68739054918353,
          -87.61594747652425,
          -87.68751557795045,
          -87.75639619526761,
          -87.63380478677512,
          -87.71670768089177,
          -87.74813331935255,
          -87.708993671342,
          -87.63434063447279,
          -87.61898671163952,
          -87.64699485941388,
          -87.68809568378438,
          -87.62607878323935,
          -87.6278834784023,
          -87.67084228253808,
          -87.63410319837826,
          -87.6946003938662,
          -87.68600797350257,
          -87.64613291942946,
          -87.79134897916926,
          -87.71921245797907,
          -87.66792445283261,
          -87.78674347222507,
          -87.63161084494463,
          -87.67487609462192,
          -87.64215458706731,
          -87.70321119979786,
          -87.79045984411599,
          -87.62801032492992,
          -87.67775518394137,
          -87.69924897816243,
          -87.6672485778532,
          -87.62074372623964,
          -87.74869831062338,
          -87.63737677022044,
          -87.6264083476607,
          -87.67504823784746,
          -87.62455288409814,
          -87.56301833268111,
          -87.63506330589429,
          -87.63099243940756,
          -87.68198572204422,
          -87.70825160442028,
          -87.71170894758589,
          -87.65522418220391,
          -87.63484961938154,
          -87.62633546646605,
          -87.63738318518799,
          -87.62074372623964,
          -87.63424737951088,
          -87.68867076537488,
          -87.77586829270965,
          -87.6535747302012,
          -87.62641533543558,
          -87.64287886755926,
          -87.6535747302012,
          -87.76188717239603,
          -87.62655608493642,
          -87.68228466062325,
          -87.6451329417807,
          -87.75626562221446,
          -87.64257341005437,
          -87.7073377871256,
          -87.6975423745426
         ],
         "marker": {
          "color": "green",
          "opacity": 0.8
         },
         "mode": "markers",
         "name": "pass",
         "showlegend": true,
         "subplot": "mapbox",
         "type": "scattermapbox"
        },
        {
         "hovertemplate": "<b>%{hovertext}</b><br><br>results=pass w/ conditions<br>latitude=%{lat}<br>longitude=%{lon}<extra></extra>",
         "hovertext": [
          "eurest dining services @ safer foundation",
          "waffle pancake house",
          "bristol lounge/john's liquor and deli",
          "nick jr.'s grill",
          "lashon's angelic learning center llc",
          "pops italian beef two",
          "ford motor co",
          "dinico's pizza ii",
          "subway",
          "carson's famous bbq  primesteaks",
          "subway 47512",
          "joe & the juice",
          "subway",
          "foxtrot market",
          "john's place",
          "alex super deli",
          "la baguette bakery",
          "baba's famous steak and lemonade",
          "little harvard academy",
          "northstar coffee",
          "herbalife",
          "starbucks coffee #2949",
          "jewel food store #3114",
          "7-eleven",
          "dunkin donuts",
          "afc sushi @ jewel osco",
          "subway #44541",
          "taqueria y restaurant la piri",
          "rosas tamales",
          "midori japanese restaurant",
          "shawarma inn iii",
          "c'est bien thai",
          "petey's",
          "atrah market",
          "pina bakery",
          "three house",
          "raffi's locale italian cucina",
          "jewel food store #3470",
          "luke's",
          "noodle creations",
          "juliana restaurant",
          "korean chicken soup house",
          "starbucks coffee #8954",
          "subway",
          "maria's mexican restaurant",
          "current/ banquets/ employees cafe",
          "juanita's restaurant #2",
          "kiki d's b b q house",
          "carniceria la mejor produce, inc.",
          "hygge",
          "starbucks coffee #2484",
          "mini palapita",
          "unicorn auctions",
          "white castle system, inc.",
          "ora sushi",
          "7-eleven",
          "checkers",
          "cafe fenix",
          "the curragh irish pub",
          "weston's coffee & tap",
          "jewel",
          "mcdonald's"
         ],
         "lat": [
          41.87016705935397,
          41.691554773175255,
          41.937109112504686,
          41.90910578560824,
          41.9022123009897,
          41.7050324842898,
          41.66611299121115,
          41.92309767820792,
          41.90202229884521,
          41.89098522875703,
          41.86878383901946,
          41.88964702582416,
          41.94682340031816,
          41.889215221756814,
          41.94328079486431,
          41.93678037502704,
          41.81532257802406,
          41.8808046152,
          41.99056361928264,
          41.865534677770654,
          41.93894423943315,
          41.9090401159946,
          41.70631284461492,
          41.95374618680847,
          41.96955287103146,
          41.92787172311833,
          41.879272838776735,
          41.93121276602796,
          41.79357839404283,
          41.98314232407871,
          41.91811081880893,
          41.95234330520047,
          41.80920223511207,
          41.9974047380824,
          41.85175635566452,
          41.89622764512234,
          41.95243739681394,
          41.946057604016254,
          41.87800431541541,
          41.85081242378108,
          41.99030461398915,
          41.96807525591038,
          41.96461176175771,
          41.89068474385759,
          41.914568495012965,
          41.89387134779289,
          41.77750758060504,
          41.819064669362135,
          41.93431439937821,
          41.90907047598386,
          41.89826161908875,
          41.970833760208265,
          41.9829540137621,
          41.88064565374098,
          41.97564877244971,
          41.95374618680847,
          41.8663442415005,
          41.93533365394091,
          42.002978321714274,
          41.96962480348343,
          41.92787172311833,
          41.80874937401075
         ],
         "legendgroup": "pass w/ conditions",
         "lon": [
          -87.70628936640078,
          -87.70810064840053,
          -87.72082349029948,
          -87.7970900667382,
          -87.74884541003385,
          -87.70116012573645,
          -87.55900308026102,
          -87.78527865943148,
          -87.76641276925565,
          -87.6152952000742,
          -87.68624468790969,
          -87.63416925556209,
          -87.688112633821,
          -87.63386440081949,
          -87.68215298235329,
          -87.71981734084218,
          -87.66499445483252,
          -87.71137549591673,
          -87.69736479750581,
          -87.6408133122904,
          -87.7462473117744,
          -87.80262196157943,
          -87.6997671192086,
          -87.71296312564161,
          -87.76202557425042,
          -87.67325881463049,
          -87.63410319837826,
          -87.77853673674818,
          -87.70671280334706,
          -87.71178764492834,
          -87.67748669726599,
          -87.6776567659055,
          -87.63286102997611,
          -87.70221661270875,
          -87.69810346653962,
          -87.6644351787337,
          -87.81649552747085,
          -87.70823010980484,
          -87.6341879329631,
          -87.63933729109915,
          -87.70431283600489,
          -87.73302714630067,
          -87.70849944208983,
          -87.62788499743118,
          -87.80580867011524,
          -87.61527477728374,
          -87.78530285418451,
          -87.66507316585539,
          -87.71577199910838,
          -87.79979158282632,
          -87.62516469194003,
          -87.74482421972742,
          -87.67445185907977,
          -87.72337093987873,
          -87.66821133005381,
          -87.71296312564161,
          -87.72052963180168,
          -87.72693021132564,
          -87.81624173417883,
          -87.76244415150198,
          -87.67325881463049,
          -87.66230696003369
         ],
         "marker": {
          "color": "yellow",
          "opacity": 0.8
         },
         "mode": "markers",
         "name": "pass w/ conditions",
         "showlegend": true,
         "subplot": "mapbox",
         "type": "scattermapbox"
        }
       ],
       "layout": {
        "legend": {
         "title": {
          "text": "results"
         },
         "tracegroupgap": 0
        },
        "mapbox": {
         "center": {
          "lat": 41.9,
          "lon": -87.7
         },
         "domain": {
          "x": [
           0,
           1
          ],
          "y": [
           0,
           1
          ]
         },
         "style": "open-street-map",
         "zoom": 9
        },
        "margin": {
         "t": 60
        },
        "template": {
         "data": {
          "bar": [
           {
            "error_x": {
             "color": "#2a3f5f"
            },
            "error_y": {
             "color": "#2a3f5f"
            },
            "marker": {
             "line": {
              "color": "#E5ECF6",
              "width": 0.5
             }
            },
            "type": "bar"
           }
          ],
          "barpolar": [
           {
            "marker": {
             "line": {
              "color": "#E5ECF6",
              "width": 0.5
             }
            },
            "type": "barpolar"
           }
          ],
          "carpet": [
           {
            "aaxis": {
             "endlinecolor": "#2a3f5f",
             "gridcolor": "white",
             "linecolor": "white",
             "minorgridcolor": "white",
             "startlinecolor": "#2a3f5f"
            },
            "baxis": {
             "endlinecolor": "#2a3f5f",
             "gridcolor": "white",
             "linecolor": "white",
             "minorgridcolor": "white",
             "startlinecolor": "#2a3f5f"
            },
            "type": "carpet"
           }
          ],
          "choropleth": [
           {
            "colorbar": {
             "outlinewidth": 0,
             "ticks": ""
            },
            "type": "choropleth"
           }
          ],
          "contour": [
           {
            "colorbar": {
             "outlinewidth": 0,
             "ticks": ""
            },
            "colorscale": [
             [
              0,
              "#0d0887"
             ],
             [
              0.1111111111111111,
              "#46039f"
             ],
             [
              0.2222222222222222,
              "#7201a8"
             ],
             [
              0.3333333333333333,
              "#9c179e"
             ],
             [
              0.4444444444444444,
              "#bd3786"
             ],
             [
              0.5555555555555556,
              "#d8576b"
             ],
             [
              0.6666666666666666,
              "#ed7953"
             ],
             [
              0.7777777777777778,
              "#fb9f3a"
             ],
             [
              0.8888888888888888,
              "#fdca26"
             ],
             [
              1,
              "#f0f921"
             ]
            ],
            "type": "contour"
           }
          ],
          "contourcarpet": [
           {
            "colorbar": {
             "outlinewidth": 0,
             "ticks": ""
            },
            "type": "contourcarpet"
           }
          ],
          "heatmap": [
           {
            "colorbar": {
             "outlinewidth": 0,
             "ticks": ""
            },
            "colorscale": [
             [
              0,
              "#0d0887"
             ],
             [
              0.1111111111111111,
              "#46039f"
             ],
             [
              0.2222222222222222,
              "#7201a8"
             ],
             [
              0.3333333333333333,
              "#9c179e"
             ],
             [
              0.4444444444444444,
              "#bd3786"
             ],
             [
              0.5555555555555556,
              "#d8576b"
             ],
             [
              0.6666666666666666,
              "#ed7953"
             ],
             [
              0.7777777777777778,
              "#fb9f3a"
             ],
             [
              0.8888888888888888,
              "#fdca26"
             ],
             [
              1,
              "#f0f921"
             ]
            ],
            "type": "heatmap"
           }
          ],
          "heatmapgl": [
           {
            "colorbar": {
             "outlinewidth": 0,
             "ticks": ""
            },
            "colorscale": [
             [
              0,
              "#0d0887"
             ],
             [
              0.1111111111111111,
              "#46039f"
             ],
             [
              0.2222222222222222,
              "#7201a8"
             ],
             [
              0.3333333333333333,
              "#9c179e"
             ],
             [
              0.4444444444444444,
              "#bd3786"
             ],
             [
              0.5555555555555556,
              "#d8576b"
             ],
             [
              0.6666666666666666,
              "#ed7953"
             ],
             [
              0.7777777777777778,
              "#fb9f3a"
             ],
             [
              0.8888888888888888,
              "#fdca26"
             ],
             [
              1,
              "#f0f921"
             ]
            ],
            "type": "heatmapgl"
           }
          ],
          "histogram": [
           {
            "marker": {
             "colorbar": {
              "outlinewidth": 0,
              "ticks": ""
             }
            },
            "type": "histogram"
           }
          ],
          "histogram2d": [
           {
            "colorbar": {
             "outlinewidth": 0,
             "ticks": ""
            },
            "colorscale": [
             [
              0,
              "#0d0887"
             ],
             [
              0.1111111111111111,
              "#46039f"
             ],
             [
              0.2222222222222222,
              "#7201a8"
             ],
             [
              0.3333333333333333,
              "#9c179e"
             ],
             [
              0.4444444444444444,
              "#bd3786"
             ],
             [
              0.5555555555555556,
              "#d8576b"
             ],
             [
              0.6666666666666666,
              "#ed7953"
             ],
             [
              0.7777777777777778,
              "#fb9f3a"
             ],
             [
              0.8888888888888888,
              "#fdca26"
             ],
             [
              1,
              "#f0f921"
             ]
            ],
            "type": "histogram2d"
           }
          ],
          "histogram2dcontour": [
           {
            "colorbar": {
             "outlinewidth": 0,
             "ticks": ""
            },
            "colorscale": [
             [
              0,
              "#0d0887"
             ],
             [
              0.1111111111111111,
              "#46039f"
             ],
             [
              0.2222222222222222,
              "#7201a8"
             ],
             [
              0.3333333333333333,
              "#9c179e"
             ],
             [
              0.4444444444444444,
              "#bd3786"
             ],
             [
              0.5555555555555556,
              "#d8576b"
             ],
             [
              0.6666666666666666,
              "#ed7953"
             ],
             [
              0.7777777777777778,
              "#fb9f3a"
             ],
             [
              0.8888888888888888,
              "#fdca26"
             ],
             [
              1,
              "#f0f921"
             ]
            ],
            "type": "histogram2dcontour"
           }
          ],
          "mesh3d": [
           {
            "colorbar": {
             "outlinewidth": 0,
             "ticks": ""
            },
            "type": "mesh3d"
           }
          ],
          "parcoords": [
           {
            "line": {
             "colorbar": {
              "outlinewidth": 0,
              "ticks": ""
             }
            },
            "type": "parcoords"
           }
          ],
          "pie": [
           {
            "automargin": true,
            "type": "pie"
           }
          ],
          "scatter": [
           {
            "marker": {
             "colorbar": {
              "outlinewidth": 0,
              "ticks": ""
             }
            },
            "type": "scatter"
           }
          ],
          "scatter3d": [
           {
            "line": {
             "colorbar": {
              "outlinewidth": 0,
              "ticks": ""
             }
            },
            "marker": {
             "colorbar": {
              "outlinewidth": 0,
              "ticks": ""
             }
            },
            "type": "scatter3d"
           }
          ],
          "scattercarpet": [
           {
            "marker": {
             "colorbar": {
              "outlinewidth": 0,
              "ticks": ""
             }
            },
            "type": "scattercarpet"
           }
          ],
          "scattergeo": [
           {
            "marker": {
             "colorbar": {
              "outlinewidth": 0,
              "ticks": ""
             }
            },
            "type": "scattergeo"
           }
          ],
          "scattergl": [
           {
            "marker": {
             "colorbar": {
              "outlinewidth": 0,
              "ticks": ""
             }
            },
            "type": "scattergl"
           }
          ],
          "scattermapbox": [
           {
            "marker": {
             "colorbar": {
              "outlinewidth": 0,
              "ticks": ""
             }
            },
            "type": "scattermapbox"
           }
          ],
          "scatterpolar": [
           {
            "marker": {
             "colorbar": {
              "outlinewidth": 0,
              "ticks": ""
             }
            },
            "type": "scatterpolar"
           }
          ],
          "scatterpolargl": [
           {
            "marker": {
             "colorbar": {
              "outlinewidth": 0,
              "ticks": ""
             }
            },
            "type": "scatterpolargl"
           }
          ],
          "scatterternary": [
           {
            "marker": {
             "colorbar": {
              "outlinewidth": 0,
              "ticks": ""
             }
            },
            "type": "scatterternary"
           }
          ],
          "surface": [
           {
            "colorbar": {
             "outlinewidth": 0,
             "ticks": ""
            },
            "colorscale": [
             [
              0,
              "#0d0887"
             ],
             [
              0.1111111111111111,
              "#46039f"
             ],
             [
              0.2222222222222222,
              "#7201a8"
             ],
             [
              0.3333333333333333,
              "#9c179e"
             ],
             [
              0.4444444444444444,
              "#bd3786"
             ],
             [
              0.5555555555555556,
              "#d8576b"
             ],
             [
              0.6666666666666666,
              "#ed7953"
             ],
             [
              0.7777777777777778,
              "#fb9f3a"
             ],
             [
              0.8888888888888888,
              "#fdca26"
             ],
             [
              1,
              "#f0f921"
             ]
            ],
            "type": "surface"
           }
          ],
          "table": [
           {
            "cells": {
             "fill": {
              "color": "#EBF0F8"
             },
             "line": {
              "color": "white"
             }
            },
            "header": {
             "fill": {
              "color": "#C8D4E3"
             },
             "line": {
              "color": "white"
             }
            },
            "type": "table"
           }
          ]
         },
         "layout": {
          "annotationdefaults": {
           "arrowcolor": "#2a3f5f",
           "arrowhead": 0,
           "arrowwidth": 1
          },
          "autotypenumbers": "strict",
          "coloraxis": {
           "colorbar": {
            "outlinewidth": 0,
            "ticks": ""
           }
          },
          "colorscale": {
           "diverging": [
            [
             0,
             "#8e0152"
            ],
            [
             0.1,
             "#c51b7d"
            ],
            [
             0.2,
             "#de77ae"
            ],
            [
             0.3,
             "#f1b6da"
            ],
            [
             0.4,
             "#fde0ef"
            ],
            [
             0.5,
             "#f7f7f7"
            ],
            [
             0.6,
             "#e6f5d0"
            ],
            [
             0.7,
             "#b8e186"
            ],
            [
             0.8,
             "#7fbc41"
            ],
            [
             0.9,
             "#4d9221"
            ],
            [
             1,
             "#276419"
            ]
           ],
           "sequential": [
            [
             0,
             "#0d0887"
            ],
            [
             0.1111111111111111,
             "#46039f"
            ],
            [
             0.2222222222222222,
             "#7201a8"
            ],
            [
             0.3333333333333333,
             "#9c179e"
            ],
            [
             0.4444444444444444,
             "#bd3786"
            ],
            [
             0.5555555555555556,
             "#d8576b"
            ],
            [
             0.6666666666666666,
             "#ed7953"
            ],
            [
             0.7777777777777778,
             "#fb9f3a"
            ],
            [
             0.8888888888888888,
             "#fdca26"
            ],
            [
             1,
             "#f0f921"
            ]
           ],
           "sequentialminus": [
            [
             0,
             "#0d0887"
            ],
            [
             0.1111111111111111,
             "#46039f"
            ],
            [
             0.2222222222222222,
             "#7201a8"
            ],
            [
             0.3333333333333333,
             "#9c179e"
            ],
            [
             0.4444444444444444,
             "#bd3786"
            ],
            [
             0.5555555555555556,
             "#d8576b"
            ],
            [
             0.6666666666666666,
             "#ed7953"
            ],
            [
             0.7777777777777778,
             "#fb9f3a"
            ],
            [
             0.8888888888888888,
             "#fdca26"
            ],
            [
             1,
             "#f0f921"
            ]
           ]
          },
          "colorway": [
           "#636efa",
           "#EF553B",
           "#00cc96",
           "#ab63fa",
           "#FFA15A",
           "#19d3f3",
           "#FF6692",
           "#B6E880",
           "#FF97FF",
           "#FECB52"
          ],
          "font": {
           "color": "#2a3f5f"
          },
          "geo": {
           "bgcolor": "white",
           "lakecolor": "white",
           "landcolor": "#E5ECF6",
           "showlakes": true,
           "showland": true,
           "subunitcolor": "white"
          },
          "hoverlabel": {
           "align": "left"
          },
          "hovermode": "closest",
          "mapbox": {
           "style": "light"
          },
          "paper_bgcolor": "white",
          "plot_bgcolor": "#E5ECF6",
          "polar": {
           "angularaxis": {
            "gridcolor": "white",
            "linecolor": "white",
            "ticks": ""
           },
           "bgcolor": "#E5ECF6",
           "radialaxis": {
            "gridcolor": "white",
            "linecolor": "white",
            "ticks": ""
           }
          },
          "scene": {
           "xaxis": {
            "backgroundcolor": "#E5ECF6",
            "gridcolor": "white",
            "gridwidth": 2,
            "linecolor": "white",
            "showbackground": true,
            "ticks": "",
            "zerolinecolor": "white"
           },
           "yaxis": {
            "backgroundcolor": "#E5ECF6",
            "gridcolor": "white",
            "gridwidth": 2,
            "linecolor": "white",
            "showbackground": true,
            "ticks": "",
            "zerolinecolor": "white"
           },
           "zaxis": {
            "backgroundcolor": "#E5ECF6",
            "gridcolor": "white",
            "gridwidth": 2,
            "linecolor": "white",
            "showbackground": true,
            "ticks": "",
            "zerolinecolor": "white"
           }
          },
          "shapedefaults": {
           "line": {
            "color": "#2a3f5f"
           }
          },
          "ternary": {
           "aaxis": {
            "gridcolor": "white",
            "linecolor": "white",
            "ticks": ""
           },
           "baxis": {
            "gridcolor": "white",
            "linecolor": "white",
            "ticks": ""
           },
           "bgcolor": "#E5ECF6",
           "caxis": {
            "gridcolor": "white",
            "linecolor": "white",
            "ticks": ""
           }
          },
          "title": {
           "x": 0.05
          },
          "xaxis": {
           "automargin": true,
           "gridcolor": "white",
           "linecolor": "white",
           "ticks": "",
           "title": {
            "standoff": 15
           },
           "zerolinecolor": "white",
           "zerolinewidth": 2
          },
          "yaxis": {
           "automargin": true,
           "gridcolor": "white",
           "linecolor": "white",
           "ticks": "",
           "title": {
            "standoff": 15
           },
           "zerolinecolor": "white",
           "zerolinewidth": 2
          }
         }
        }
       }
      },
      "text/html": [
       "<div>                            <div id=\"07fa9c0a-ac4b-4d9e-8b12-9efdde484b27\" class=\"plotly-graph-div\" style=\"height:525px; width:100%;\"></div>            <script type=\"text/javascript\">                require([\"plotly\"], function(Plotly) {                    window.PLOTLYENV=window.PLOTLYENV || {};                                    if (document.getElementById(\"07fa9c0a-ac4b-4d9e-8b12-9efdde484b27\")) {                    Plotly.newPlot(                        \"07fa9c0a-ac4b-4d9e-8b12-9efdde484b27\",                        [{\"hovertemplate\": \"<b>%{hovertext}</b><br><br>results=fail<br>latitude=%{lat}<br>longitude=%{lon}<extra></extra>\", \"hovertext\": [\"pupuseria metapan restaurant\", \"fresh market place\", \"nineveh mart & meat\", \"nea agora packing company, inc.\", \"godess and grocer\", \"sharks fish chicken and tonys philly steaks\", \"taqueria jarabe\", \"l & p liquors\", \"new orleans seafood\", \"joy's\", \"trio\", \"meenari oriental restaurant\", \"el taconazo  la fiesta inc.\", \"subway\", \"lashon's angelic learning center llc\", \"chayhana\", \"yummy yummy asian cuisine\", \"double happiness\", \"tequila cj restaurant\", \"al waleema\", \"7 eleven\", \"raffi's locale italian cucina\", \"jet's pizza\", \"golden crust pizzeria\", \"popye's #867\", \"taqueria el ranchito\", \"himalayan - curry and pizza\", \"jimmy johns gourmet sandwiches\", \"pizza hut\", \"chicago pizza joint\", \"hyderabad house\", \"vntofu fast food, inc.\", \"eataly\", \"julius-meinl\", \"tortilleria atotonilco, inc\", \"leamington foods inc\", \"janson's drive in\", \"kevin's hamburger heaven\", \"okami sushi\", \"el nuevo taconazo, inc.\", \"danang kitchen\", \"pho 777 restaurant\", \"protein bar\", \"uncle remus plus guilty pleasures\", \"leamington foods inc\", \"chitown sandwich club\", \"su nueva casa del gallo bravo, inc.\", \"andys fruit ranch\", \"bryn mawr fresh market\", \"subway sandwiches\", \"tequila cj restaurant\", \"goddess rocks\", \"see thru chinese restaurant\", \"new orleans seafood\", \"pizza boy\", \"sandy's bakery & deli\", \"starbucks coffee\", \"einstein bros. bagels\", \"west town bakery\", null, \"buena vista restaurant\", \"mexicolombia\", \"leamington foods inc\", \"save-a-lot\", \"su taqueria thaly's\", \"groundswell cafe\", \"north ave falafel\", \"mr. d's snack shop\", \"white castle system, inc.\", \"hot dog station\", \"lucha cafe\"], \"lat\": [41.9456334386168, 41.92093214697868, 41.99763496349434, 41.86958371785205, 41.89992381117936, 41.72199044732248, 41.87161089478699, 41.96813178484842, 41.97339650923979, 41.94171290343118, 41.897839232091, 41.982922834178616, 41.92949530063107, 41.93614191193037, 41.9022123009897, 41.95394859951932, 41.93527996155769, 41.97316839903074, 41.79675218648316, 41.95929323148519, 41.88583768769826, 41.95243739681394, 41.91274014775508, 41.96535307618747, 41.808780247267606, 41.93265693660558, 41.92387940553193, 41.93085131518802, 41.80861587986066, 41.96415807203445, 41.997688426542666, 41.97340592064704, 41.89239475098296, 41.96159241920592, 41.80846879520972, 41.866497308125936, 41.71356989935203, 41.82363599819552, 41.90912535950116, 41.7866229573586, 41.97319036182206, 41.97316727673406, 41.89490330235543, 41.88040118054544, 41.866497308125936, 41.935452917475686, 41.96842384760016, 41.96762915968896, 41.98313727330595, 42.01942088064485, 41.79675218648316, 41.89992381117936, 41.902029722868406, 41.97339650923979, 42.00258143308993, 41.967578162072144, 41.89094361522157, 41.89743861270861, 41.94786410272433, 41.91075186559687, 41.93905792622148, 41.818377048534536, 41.866497308125936, 41.874537312208965, 41.93834100224705, 41.96992104744266, 41.90912708426858, 41.93102456512979, 41.88064565374098, 41.96785571643644, 41.92876724129143], \"legendgroup\": \"fail\", \"lon\": [-87.7792851916802, -87.68766600883245, -87.7016813774542, -87.65325852479262, -87.73868335454733, -87.61479359427581, -87.6860303713524, -87.72808675595967, -87.65679874855937, -87.64430633617879, -87.63736478047242, -87.71178201064723, -87.7663302984316, -87.72695212607006, -87.74884541003385, -87.68539017232962, -87.64409274536888, -87.65736357565746, -87.75639619526761, -87.72792705052548, -87.62591897202392, -87.81649552747085, -87.80575059884977, -87.70852522642963, -87.65995685711123, -87.71305610116421, -87.6467837684582, -87.7877556545619, -87.67638448034334, -87.83683754944124, -87.68600797350257, -87.65601157540186, -87.62641533543558, -87.67683111023659, -87.6677274811442, -87.7073377871256, -87.68198572204422, -87.64082111787692, -87.79562029285854, -87.70321119979786, -87.65575295517391, -87.65743782380991, -87.62074372623964, -87.74408951751022, -87.7073377871256, -87.64686341693728, -87.72135178109974, -87.70830368730081, -87.71212570105737, -87.68969083947009, -87.75639619526761, -87.73868335454733, -87.76602278744853, -87.65679874855937, -87.81607036079886, -87.77472139648694, -87.61754059260844, -87.62564026554416, -87.65721629118914, -87.66689090396886, -87.6442187510171, -87.69702213922287, -87.7073377871256, -87.7255969016521, -87.77635804996433, -87.67907166391261, -87.79549071389428, -87.79289008821847, -87.72337093987873, -87.7134972229382, -87.7660071056267], \"marker\": {\"color\": \"red\", \"opacity\": 0.8}, \"mode\": \"markers\", \"name\": \"fail\", \"showlegend\": true, \"subplot\": \"mapbox\", \"type\": \"scattermapbox\"}, {\"hovertemplate\": \"<b>%{hovertext}</b><br><br>results=pass<br>latitude=%{lat}<br>longitude=%{lon}<extra></extra>\", \"hovertext\": [\"taqueria el ranchito\", \"burger king #7623\", \"dollar tree\", \"starbucks\", \"chicago smoke\", \"111th food mart\", \"roti\", \"klein's bakery & cafe\", \"potbelly sandwich works llc\", \"nutella\", \"ay carbon pollo grill\", \"salazar bilingual ed. ctr\", \"lacoco's pizza & wings\", \"xocome antojeria\", \"atrium events\", \"dunkin donuts / baskin & robbins\", \"fontano's sub\", \"potbelly sandwiches\", \"see thru chinese restaurant\", \"tequila cj restaurant\", \"gzn infant suite\", \"atrium events\", \"bitter pops\", \"shell food mart\", \"always thai\", \"subway\", \"taco bell\", \"aje cafe\", \"erie neighborhood house\", \"fresh market place\", \"mcdonald's\", \"taco bell\", \"atrium events\", \"necessary & sufficient coffee\", \"billy goat tavern & grill\", \"subway\", \"burger king\", \"wendy's\", \"the churro waffle\", \"hana restaurant\", \"jeffery chicken & sub\", \"panaderia guatemalteca\", \"dunkin donuts/baskin robbins\", \"mr. d's snack shop\", \"jimmy johns sandwich shops\", \"7-11\", \"jenner academy for the arts\", \"till  (south bldg)\", \"chick-fil-a at bucktown (il) fsr\", \"jimmy john's\", \"taqueria las flores\", \"eggys\", \"mariscos la costa\", \"okami sushi\", \"giordano's\", \"montessori magpie\", \"7 eleven\", \"chick-fil-a\", \"afc sushi @ jewel osco #3234\", \"mcdonalds\", \"subway\", \"panda express\", \"nellies\", \"afc sushi@jewel osco #3470\", \"bitter pops\", \"brasil legal\", \"university children's center\", \"subway\", \"tequila cj restaurant\", \"avanti caffe\", \"tobacco land\", \"el pueblito mexican grill\", \"light house\", \"bp & subway\", \"subway\", \"steak n' shake\", \"big boy gyros\", \"oasis cafe\", \"caffecafe\", \"bitter pops\", \"blackwood bbq\", \"cermak produce no.4\", \"hyderabad house\", \"the momo world\", \"popeyes\", \"james monroe elementary\", \"the hat\", \"subway\", \"jewel food store #3234\", \"boxcar bettys\", \"gan shalom (temple sholom)\", \"el nuevo taconazo, inc.\", \"andrisi's\", \"jimmy johns\", \"janik's cafe\", \"subway sandwich store\", \"la condesa\", \"saigon sisters\", \"wendy's\", \"millennial mart\", \"subway\", \"m & g char grill\", \"fourth church day school\", \"the little folks daycare\", \"protein bar\", \"gold coast market\", \"janson's drive in\", \"lacoco's pizza & wings\", \"kimball mini market\", \"byrons kitchens\", \"potbelly sandwich shop\", \"flat top grill\", \"big & little's\", \"grk greek kitchen\", \"jimmy johns\", \"7-11\", \"delightful pastries\", \"chief\", \"eataly\", \"the goddess and grocer\", \"chief\", \"kawayan\", \"7 - eleven\", \"subway\", \"king of cups\", \"subway\", \"panera bread\", \"leamington foods inc\", \"south loop market\"], \"lat\": [41.93265693660558, 41.72107251262758, 41.7998344238418, 41.89638650437739, 41.85045102427, 41.692157238737, 41.88584720870456, 41.95845951159845, 41.88555516950279, 41.88454011059238, 41.79875025743268, 41.90144444659322, 41.80817609033046, 41.80010753541636, 41.96047630495004, 41.88222093835454, 41.72090692029151, 41.911216984345366, 41.902029722868406, 41.79675218648316, 41.76565733973402, 41.96047630495004, 41.9430337588967, 41.93886570309361, 41.954093028764525, 41.91729424455668, 41.84803753161119, 41.93591438057569, 41.89500554624363, 41.92093214697868, 41.75093165729936, 41.866463843723054, 41.96047630495004, 41.928351529514096, 41.8858384517594, 41.88917219233801, 41.93173123599631, 41.92218252544952, 41.95385497271024, 41.86926179479487, 41.76635780337294, 41.96045577105616, 41.90995065493004, 41.93102456512979, 41.94306905085418, 41.965791672217485, 41.90205805089518, 41.77544062472892, 41.92515644072539, 41.89639200221643, 41.975805123578695, 41.88539004666972, 41.90253929964079, 41.90912535950116, 42.003062035390926, 41.89713189353226, 41.88583768769826, 41.86878882228545, 41.90400774905801, 41.88371685128181, 41.70630132759062, 41.885353703982936, 41.90310359416673, 41.946057604016254, 41.9430337588967, 41.921592541606095, 41.89357131013786, 41.91593071729015, 41.79675218648316, 41.878227703089095, 41.91998569775369, 41.97504399270979, 41.98252569759227, 41.89633573431188, 41.88539004666972, 41.86481081595784, 41.94613640047224, 41.88256706583192, 41.886707555069805, 41.9430337588967, 41.879272838776735, 41.910132240414285, 41.997688426542666, 41.86468356389474, 41.923739299500106, 41.929961346561306, 41.91073660901789, 41.95407306311155, 41.90400774905801, 41.91063613478286, 41.94609839553065, 41.7866229573586, 41.77764909899739, 41.895062395602416, 41.90307250619249, 41.99767707665171, 41.899818661508206, 41.89490330235543, 41.90948219149137, 41.89812004046833, 41.88502983462608, 41.95409491446792, 41.89848890902573, 41.76271170146485, 41.87842162672269, 41.8965294551304, 41.71356989935203, 41.80817609033046, 41.91543651709187, 41.95436836115346, 41.9108947798037, 41.88133480594687, 41.89826880919385, 41.89490330235543, 41.878223241518086, 41.965791672217485, 41.96756177658966, 41.88682938415869, 41.89239475098296, 41.89875668638562, 41.88682938415869, 41.96939422175831, 41.88683151231688, 41.928524158413744, 41.922698654947936, 41.93881423391841, 41.87684171027662, 41.866497308125936, 41.924017757585965], \"legendgroup\": \"pass\", \"lon\": [-87.71305610116421, -87.66493899346078, -87.72320456094785, -87.64127960011128, -87.65879785567869, -87.64979625345944, -87.62509485736301, -87.65287375436044, -87.62808272516106, -87.62430852246028, -87.72346641018879, -87.63373911746031, -87.70825160442028, -87.7344682734755, -87.67379931767802, -87.626365167586, -87.67684433217723, -87.67733343718919, -87.76602278744853, -87.75639619526761, -87.61194442332632, -87.67379931767802, -87.67084228253808, -87.72325921471953, -87.67519473163885, -87.70654528949485, -87.68567385649257, -87.64758150382741, -87.6698132252846, -87.68766600883245, -87.68301753189526, -87.71017082981336, -87.67379931767802, -87.71809710408122, -87.62584164558255, -87.6371099271468, -87.7398542198634, -87.69539385024225, -87.7000724672253, -87.65965077399696, -87.57573590407468, -87.75414848044049, -87.71124469373261, -87.79289008821847, -87.68152314988973, -87.68867076537488, -87.64101894094065, -87.60932094741847, -87.67629352100445, -87.6408871858314, -87.7132619526397, -87.61898671163952, -87.66761746288638, -87.79562029285854, -87.81637371807534, -87.66717395751905, -87.62591897202392, -87.64091692235533, -87.63161084494463, -87.62608622451462, -87.70063465826235, -87.62641328540737, -87.68934332266758, -87.70823010980484, -87.67084228253808, -87.68739054918353, -87.61594747652425, -87.68751557795045, -87.75639619526761, -87.63380478677512, -87.71670768089177, -87.74813331935255, -87.708993671342, -87.63434063447279, -87.61898671163952, -87.64699485941388, -87.68809568378438, -87.62607878323935, -87.6278834784023, -87.67084228253808, -87.63410319837826, -87.6946003938662, -87.68600797350257, -87.64613291942946, -87.79134897916926, -87.71921245797907, -87.66792445283261, -87.78674347222507, -87.63161084494463, -87.67487609462192, -87.64215458706731, -87.70321119979786, -87.79045984411599, -87.62801032492992, -87.67775518394137, -87.69924897816243, -87.6672485778532, -87.62074372623964, -87.74869831062338, -87.63737677022044, -87.6264083476607, -87.67504823784746, -87.62455288409814, -87.56301833268111, -87.63506330589429, -87.63099243940756, -87.68198572204422, -87.70825160442028, -87.71170894758589, -87.65522418220391, -87.63484961938154, -87.62633546646605, -87.63738318518799, -87.62074372623964, -87.63424737951088, -87.68867076537488, -87.77586829270965, -87.6535747302012, -87.62641533543558, -87.64287886755926, -87.6535747302012, -87.76188717239603, -87.62655608493642, -87.68228466062325, -87.6451329417807, -87.75626562221446, -87.64257341005437, -87.7073377871256, -87.6975423745426], \"marker\": {\"color\": \"green\", \"opacity\": 0.8}, \"mode\": \"markers\", \"name\": \"pass\", \"showlegend\": true, \"subplot\": \"mapbox\", \"type\": \"scattermapbox\"}, {\"hovertemplate\": \"<b>%{hovertext}</b><br><br>results=pass w/ conditions<br>latitude=%{lat}<br>longitude=%{lon}<extra></extra>\", \"hovertext\": [\"eurest dining services @ safer foundation\", \"waffle pancake house\", \"bristol lounge/john's liquor and deli\", \"nick jr.'s grill\", \"lashon's angelic learning center llc\", \"pops italian beef two\", \"ford motor co\", \"dinico's pizza ii\", \"subway\", \"carson's famous bbq  primesteaks\", \"subway 47512\", \"joe & the juice\", \"subway\", \"foxtrot market\", \"john's place\", \"alex super deli\", \"la baguette bakery\", \"baba's famous steak and lemonade\", \"little harvard academy\", \"northstar coffee\", \"herbalife\", \"starbucks coffee #2949\", \"jewel food store #3114\", \"7-eleven\", \"dunkin donuts\", \"afc sushi @ jewel osco\", \"subway #44541\", \"taqueria y restaurant la piri\", \"rosas tamales\", \"midori japanese restaurant\", \"shawarma inn iii\", \"c'est bien thai\", \"petey's\", \"atrah market\", \"pina bakery\", \"three house\", \"raffi's locale italian cucina\", \"jewel food store #3470\", \"luke's\", \"noodle creations\", \"juliana restaurant\", \"korean chicken soup house\", \"starbucks coffee #8954\", \"subway\", \"maria's mexican restaurant\", \"current/ banquets/ employees cafe\", \"juanita's restaurant #2\", \"kiki d's b b q house\", \"carniceria la mejor produce, inc.\", \"hygge\", \"starbucks coffee #2484\", \"mini palapita\", \"unicorn auctions\", \"white castle system, inc.\", \"ora sushi\", \"7-eleven\", \"checkers\", \"cafe fenix\", \"the curragh irish pub\", \"weston's coffee & tap\", \"jewel\", \"mcdonald's\"], \"lat\": [41.87016705935397, 41.691554773175255, 41.937109112504686, 41.90910578560824, 41.9022123009897, 41.7050324842898, 41.66611299121115, 41.92309767820792, 41.90202229884521, 41.89098522875703, 41.86878383901946, 41.88964702582416, 41.94682340031816, 41.889215221756814, 41.94328079486431, 41.93678037502704, 41.81532257802406, 41.8808046152, 41.99056361928264, 41.865534677770654, 41.93894423943315, 41.9090401159946, 41.70631284461492, 41.95374618680847, 41.96955287103146, 41.92787172311833, 41.879272838776735, 41.93121276602796, 41.79357839404283, 41.98314232407871, 41.91811081880893, 41.95234330520047, 41.80920223511207, 41.9974047380824, 41.85175635566452, 41.89622764512234, 41.95243739681394, 41.946057604016254, 41.87800431541541, 41.85081242378108, 41.99030461398915, 41.96807525591038, 41.96461176175771, 41.89068474385759, 41.914568495012965, 41.89387134779289, 41.77750758060504, 41.819064669362135, 41.93431439937821, 41.90907047598386, 41.89826161908875, 41.970833760208265, 41.9829540137621, 41.88064565374098, 41.97564877244971, 41.95374618680847, 41.8663442415005, 41.93533365394091, 42.002978321714274, 41.96962480348343, 41.92787172311833, 41.80874937401075], \"legendgroup\": \"pass w/ conditions\", \"lon\": [-87.70628936640078, -87.70810064840053, -87.72082349029948, -87.7970900667382, -87.74884541003385, -87.70116012573645, -87.55900308026102, -87.78527865943148, -87.76641276925565, -87.6152952000742, -87.68624468790969, -87.63416925556209, -87.688112633821, -87.63386440081949, -87.68215298235329, -87.71981734084218, -87.66499445483252, -87.71137549591673, -87.69736479750581, -87.6408133122904, -87.7462473117744, -87.80262196157943, -87.6997671192086, -87.71296312564161, -87.76202557425042, -87.67325881463049, -87.63410319837826, -87.77853673674818, -87.70671280334706, -87.71178764492834, -87.67748669726599, -87.6776567659055, -87.63286102997611, -87.70221661270875, -87.69810346653962, -87.6644351787337, -87.81649552747085, -87.70823010980484, -87.6341879329631, -87.63933729109915, -87.70431283600489, -87.73302714630067, -87.70849944208983, -87.62788499743118, -87.80580867011524, -87.61527477728374, -87.78530285418451, -87.66507316585539, -87.71577199910838, -87.79979158282632, -87.62516469194003, -87.74482421972742, -87.67445185907977, -87.72337093987873, -87.66821133005381, -87.71296312564161, -87.72052963180168, -87.72693021132564, -87.81624173417883, -87.76244415150198, -87.67325881463049, -87.66230696003369], \"marker\": {\"color\": \"yellow\", \"opacity\": 0.8}, \"mode\": \"markers\", \"name\": \"pass w/ conditions\", \"showlegend\": true, \"subplot\": \"mapbox\", \"type\": \"scattermapbox\"}],                        {\"legend\": {\"title\": {\"text\": \"results\"}, \"tracegroupgap\": 0}, \"mapbox\": {\"center\": {\"lat\": 41.9, \"lon\": -87.7}, \"domain\": {\"x\": [0.0, 1.0], \"y\": [0.0, 1.0]}, \"style\": \"open-street-map\", \"zoom\": 9}, \"margin\": {\"t\": 60}, \"template\": {\"data\": {\"bar\": [{\"error_x\": {\"color\": \"#2a3f5f\"}, \"error_y\": {\"color\": \"#2a3f5f\"}, \"marker\": {\"line\": {\"color\": \"#E5ECF6\", \"width\": 0.5}}, \"type\": \"bar\"}], \"barpolar\": [{\"marker\": {\"line\": {\"color\": \"#E5ECF6\", \"width\": 0.5}}, \"type\": \"barpolar\"}], \"carpet\": [{\"aaxis\": {\"endlinecolor\": \"#2a3f5f\", \"gridcolor\": \"white\", \"linecolor\": \"white\", \"minorgridcolor\": \"white\", \"startlinecolor\": \"#2a3f5f\"}, \"baxis\": {\"endlinecolor\": \"#2a3f5f\", \"gridcolor\": \"white\", \"linecolor\": \"white\", \"minorgridcolor\": \"white\", \"startlinecolor\": \"#2a3f5f\"}, \"type\": \"carpet\"}], \"choropleth\": [{\"colorbar\": {\"outlinewidth\": 0, \"ticks\": \"\"}, \"type\": \"choropleth\"}], \"contour\": [{\"colorbar\": {\"outlinewidth\": 0, \"ticks\": \"\"}, \"colorscale\": [[0.0, \"#0d0887\"], [0.1111111111111111, \"#46039f\"], [0.2222222222222222, \"#7201a8\"], [0.3333333333333333, \"#9c179e\"], [0.4444444444444444, \"#bd3786\"], [0.5555555555555556, \"#d8576b\"], [0.6666666666666666, \"#ed7953\"], [0.7777777777777778, \"#fb9f3a\"], [0.8888888888888888, \"#fdca26\"], [1.0, \"#f0f921\"]], \"type\": \"contour\"}], \"contourcarpet\": [{\"colorbar\": {\"outlinewidth\": 0, \"ticks\": \"\"}, \"type\": \"contourcarpet\"}], \"heatmap\": [{\"colorbar\": {\"outlinewidth\": 0, \"ticks\": \"\"}, \"colorscale\": [[0.0, \"#0d0887\"], [0.1111111111111111, \"#46039f\"], [0.2222222222222222, \"#7201a8\"], [0.3333333333333333, \"#9c179e\"], [0.4444444444444444, \"#bd3786\"], [0.5555555555555556, \"#d8576b\"], [0.6666666666666666, \"#ed7953\"], [0.7777777777777778, \"#fb9f3a\"], [0.8888888888888888, \"#fdca26\"], [1.0, \"#f0f921\"]], \"type\": \"heatmap\"}], \"heatmapgl\": [{\"colorbar\": {\"outlinewidth\": 0, \"ticks\": \"\"}, \"colorscale\": [[0.0, \"#0d0887\"], [0.1111111111111111, \"#46039f\"], [0.2222222222222222, \"#7201a8\"], [0.3333333333333333, \"#9c179e\"], [0.4444444444444444, \"#bd3786\"], [0.5555555555555556, \"#d8576b\"], [0.6666666666666666, \"#ed7953\"], [0.7777777777777778, \"#fb9f3a\"], [0.8888888888888888, \"#fdca26\"], [1.0, \"#f0f921\"]], \"type\": \"heatmapgl\"}], \"histogram\": [{\"marker\": {\"colorbar\": {\"outlinewidth\": 0, \"ticks\": \"\"}}, \"type\": \"histogram\"}], \"histogram2d\": [{\"colorbar\": {\"outlinewidth\": 0, \"ticks\": \"\"}, \"colorscale\": [[0.0, \"#0d0887\"], [0.1111111111111111, \"#46039f\"], [0.2222222222222222, \"#7201a8\"], [0.3333333333333333, \"#9c179e\"], [0.4444444444444444, \"#bd3786\"], [0.5555555555555556, \"#d8576b\"], [0.6666666666666666, \"#ed7953\"], [0.7777777777777778, \"#fb9f3a\"], [0.8888888888888888, \"#fdca26\"], [1.0, \"#f0f921\"]], \"type\": \"histogram2d\"}], \"histogram2dcontour\": [{\"colorbar\": {\"outlinewidth\": 0, \"ticks\": \"\"}, \"colorscale\": [[0.0, \"#0d0887\"], [0.1111111111111111, \"#46039f\"], [0.2222222222222222, \"#7201a8\"], [0.3333333333333333, \"#9c179e\"], [0.4444444444444444, \"#bd3786\"], [0.5555555555555556, \"#d8576b\"], [0.6666666666666666, \"#ed7953\"], [0.7777777777777778, \"#fb9f3a\"], [0.8888888888888888, \"#fdca26\"], [1.0, \"#f0f921\"]], \"type\": \"histogram2dcontour\"}], \"mesh3d\": [{\"colorbar\": {\"outlinewidth\": 0, \"ticks\": \"\"}, \"type\": \"mesh3d\"}], \"parcoords\": [{\"line\": {\"colorbar\": {\"outlinewidth\": 0, \"ticks\": \"\"}}, \"type\": \"parcoords\"}], \"pie\": [{\"automargin\": true, \"type\": \"pie\"}], \"scatter\": [{\"marker\": {\"colorbar\": {\"outlinewidth\": 0, \"ticks\": \"\"}}, \"type\": \"scatter\"}], \"scatter3d\": [{\"line\": {\"colorbar\": {\"outlinewidth\": 0, \"ticks\": \"\"}}, \"marker\": {\"colorbar\": {\"outlinewidth\": 0, \"ticks\": \"\"}}, \"type\": \"scatter3d\"}], \"scattercarpet\": [{\"marker\": {\"colorbar\": {\"outlinewidth\": 0, \"ticks\": \"\"}}, \"type\": \"scattercarpet\"}], \"scattergeo\": [{\"marker\": {\"colorbar\": {\"outlinewidth\": 0, \"ticks\": \"\"}}, \"type\": \"scattergeo\"}], \"scattergl\": [{\"marker\": {\"colorbar\": {\"outlinewidth\": 0, \"ticks\": \"\"}}, \"type\": \"scattergl\"}], \"scattermapbox\": [{\"marker\": {\"colorbar\": {\"outlinewidth\": 0, \"ticks\": \"\"}}, \"type\": \"scattermapbox\"}], \"scatterpolar\": [{\"marker\": {\"colorbar\": {\"outlinewidth\": 0, \"ticks\": \"\"}}, \"type\": \"scatterpolar\"}], \"scatterpolargl\": [{\"marker\": {\"colorbar\": {\"outlinewidth\": 0, \"ticks\": \"\"}}, \"type\": \"scatterpolargl\"}], \"scatterternary\": [{\"marker\": {\"colorbar\": {\"outlinewidth\": 0, \"ticks\": \"\"}}, \"type\": \"scatterternary\"}], \"surface\": [{\"colorbar\": {\"outlinewidth\": 0, \"ticks\": \"\"}, \"colorscale\": [[0.0, \"#0d0887\"], [0.1111111111111111, \"#46039f\"], [0.2222222222222222, \"#7201a8\"], [0.3333333333333333, \"#9c179e\"], [0.4444444444444444, \"#bd3786\"], [0.5555555555555556, \"#d8576b\"], [0.6666666666666666, \"#ed7953\"], [0.7777777777777778, \"#fb9f3a\"], [0.8888888888888888, \"#fdca26\"], [1.0, \"#f0f921\"]], \"type\": \"surface\"}], \"table\": [{\"cells\": {\"fill\": {\"color\": \"#EBF0F8\"}, \"line\": {\"color\": \"white\"}}, \"header\": {\"fill\": {\"color\": \"#C8D4E3\"}, \"line\": {\"color\": \"white\"}}, \"type\": \"table\"}]}, \"layout\": {\"annotationdefaults\": {\"arrowcolor\": \"#2a3f5f\", \"arrowhead\": 0, \"arrowwidth\": 1}, \"autotypenumbers\": \"strict\", \"coloraxis\": {\"colorbar\": {\"outlinewidth\": 0, \"ticks\": \"\"}}, \"colorscale\": {\"diverging\": [[0, \"#8e0152\"], [0.1, \"#c51b7d\"], [0.2, \"#de77ae\"], [0.3, \"#f1b6da\"], [0.4, \"#fde0ef\"], [0.5, \"#f7f7f7\"], [0.6, \"#e6f5d0\"], [0.7, \"#b8e186\"], [0.8, \"#7fbc41\"], [0.9, \"#4d9221\"], [1, \"#276419\"]], \"sequential\": [[0.0, \"#0d0887\"], [0.1111111111111111, \"#46039f\"], [0.2222222222222222, \"#7201a8\"], [0.3333333333333333, \"#9c179e\"], [0.4444444444444444, \"#bd3786\"], [0.5555555555555556, \"#d8576b\"], [0.6666666666666666, \"#ed7953\"], [0.7777777777777778, \"#fb9f3a\"], [0.8888888888888888, \"#fdca26\"], [1.0, \"#f0f921\"]], \"sequentialminus\": [[0.0, \"#0d0887\"], [0.1111111111111111, \"#46039f\"], [0.2222222222222222, \"#7201a8\"], [0.3333333333333333, \"#9c179e\"], [0.4444444444444444, \"#bd3786\"], [0.5555555555555556, \"#d8576b\"], [0.6666666666666666, \"#ed7953\"], [0.7777777777777778, \"#fb9f3a\"], [0.8888888888888888, \"#fdca26\"], [1.0, \"#f0f921\"]]}, \"colorway\": [\"#636efa\", \"#EF553B\", \"#00cc96\", \"#ab63fa\", \"#FFA15A\", \"#19d3f3\", \"#FF6692\", \"#B6E880\", \"#FF97FF\", \"#FECB52\"], \"font\": {\"color\": \"#2a3f5f\"}, \"geo\": {\"bgcolor\": \"white\", \"lakecolor\": \"white\", \"landcolor\": \"#E5ECF6\", \"showlakes\": true, \"showland\": true, \"subunitcolor\": \"white\"}, \"hoverlabel\": {\"align\": \"left\"}, \"hovermode\": \"closest\", \"mapbox\": {\"style\": \"light\"}, \"paper_bgcolor\": \"white\", \"plot_bgcolor\": \"#E5ECF6\", \"polar\": {\"angularaxis\": {\"gridcolor\": \"white\", \"linecolor\": \"white\", \"ticks\": \"\"}, \"bgcolor\": \"#E5ECF6\", \"radialaxis\": {\"gridcolor\": \"white\", \"linecolor\": \"white\", \"ticks\": \"\"}}, \"scene\": {\"xaxis\": {\"backgroundcolor\": \"#E5ECF6\", \"gridcolor\": \"white\", \"gridwidth\": 2, \"linecolor\": \"white\", \"showbackground\": true, \"ticks\": \"\", \"zerolinecolor\": \"white\"}, \"yaxis\": {\"backgroundcolor\": \"#E5ECF6\", \"gridcolor\": \"white\", \"gridwidth\": 2, \"linecolor\": \"white\", \"showbackground\": true, \"ticks\": \"\", \"zerolinecolor\": \"white\"}, \"zaxis\": {\"backgroundcolor\": \"#E5ECF6\", \"gridcolor\": \"white\", \"gridwidth\": 2, \"linecolor\": \"white\", \"showbackground\": true, \"ticks\": \"\", \"zerolinecolor\": \"white\"}}, \"shapedefaults\": {\"line\": {\"color\": \"#2a3f5f\"}}, \"ternary\": {\"aaxis\": {\"gridcolor\": \"white\", \"linecolor\": \"white\", \"ticks\": \"\"}, \"baxis\": {\"gridcolor\": \"white\", \"linecolor\": \"white\", \"ticks\": \"\"}, \"bgcolor\": \"#E5ECF6\", \"caxis\": {\"gridcolor\": \"white\", \"linecolor\": \"white\", \"ticks\": \"\"}}, \"title\": {\"x\": 0.05}, \"xaxis\": {\"automargin\": true, \"gridcolor\": \"white\", \"linecolor\": \"white\", \"ticks\": \"\", \"title\": {\"standoff\": 15}, \"zerolinecolor\": \"white\", \"zerolinewidth\": 2}, \"yaxis\": {\"automargin\": true, \"gridcolor\": \"white\", \"linecolor\": \"white\", \"ticks\": \"\", \"title\": {\"standoff\": 15}, \"zerolinecolor\": \"white\", \"zerolinewidth\": 2}}}},                        {\"responsive\": true}                    ).then(function(){\n",
       "                            \n",
       "var gd = document.getElementById('07fa9c0a-ac4b-4d9e-8b12-9efdde484b27');\n",
       "var x = new MutationObserver(function (mutations, observer) {{\n",
       "        var display = window.getComputedStyle(gd).display;\n",
       "        if (!display || display === 'none') {{\n",
       "            console.log([gd, 'removed!']);\n",
       "            Plotly.purge(gd);\n",
       "            observer.disconnect();\n",
       "        }}\n",
       "}});\n",
       "\n",
       "// Listen for the removal of the full notebook cells\n",
       "var notebookContainer = gd.closest('#notebook-container');\n",
       "if (notebookContainer) {{\n",
       "    x.observe(notebookContainer, {childList: true});\n",
       "}}\n",
       "\n",
       "// Listen for the clearing of the current output cell\n",
       "var outputEl = gd.closest('.output');\n",
       "if (outputEl) {{\n",
       "    x.observe(outputEl, {childList: true});\n",
       "}}\n",
       "\n",
       "                        })                };                });            </script>        </div>"
      ]
     },
     "metadata": {},
     "output_type": "display_data"
    }
   ],
   "source": [
    "fecha_inicial = '2021-01-01'\n",
    "df_map = df[(df.inspection_date >= fecha_inicial) & (df.results != 'others')]\n",
    "fig = px.scatter_mapbox(df_map.sort_values(by='results'), \n",
    "                        lat = \"latitude\", \n",
    "                        lon = \"longitude\",\n",
    "                        color = \"results\",\n",
    "                        hover_name = \"aka_name\",\n",
    "                        color_discrete_sequence = ['red', 'green', 'yellow'],\n",
    "                        opacity = 0.8,\n",
    "                        zoom = 9, \n",
    "                        mapbox_style= \"open-street-map\",\n",
    "                        center = {\"lat\": 41.9, \"lon\": -87.7})\n",
    "fig.show()"
   ]
  },
  {
   "cell_type": "markdown",
   "id": "applied-quarter",
   "metadata": {},
   "source": [
    "<img src=\"https://dl.dropboxusercontent.com/s/pnqr87267dwdv2b/Mapa.jpeg?dl=0\" heigth=\"500\" width=\"1500\">"
   ]
  },
  {
   "cell_type": "markdown",
   "id": "rural-organization",
   "metadata": {},
   "source": [
    "### Tipo de resultado"
   ]
  },
  {
   "cell_type": "markdown",
   "id": "curious-absorption",
   "metadata": {},
   "source": [
    "Los resultados que arroja la inspección son importantes, por lo que en la siguiente gráfica se muestra el conteo de cada uno. Podemos ver que hay más del doble de establecimientos que pasan la inspección de aquellos que fallan."
   ]
  },
  {
   "cell_type": "code",
   "execution_count": 132,
   "id": "eastern-tribe",
   "metadata": {},
   "outputs": [
    {
     "data": {
      "image/png": "[encoded data removed]",
      "text/plain": [
       "<Figure size 432x288 with 1 Axes>"
      ]
     },
     "metadata": {
      "needs_background": "light"
     },
     "output_type": "display_data"
    }
   ],
   "source": [
    "conteo_resultados = sns.countplot(x='results_des',\n",
    "                  data=df,\n",
    "                  order = df['results_des'].value_counts().index,\n",
    "                  palette=\"viridis\")\n",
    "plt.title('Conteo del tipo de resultado')\n",
    "plt.xlabel('Resultados')\n",
    "plt.ylabel('Número de registros')\n",
    "fmt = '{x:,.0f}'\n",
    "tick = mtick.StrMethodFormatter(fmt)\n",
    "conteo_resultados.yaxis.set_major_formatter(tick)\n",
    "plt.xticks(rotation=45)\n",
    "plt.show()"
   ]
  },
  {
   "cell_type": "markdown",
   "id": "growing-third",
   "metadata": {},
   "source": [
    "### Riesgo"
   ]
  },
  {
   "cell_type": "markdown",
   "id": "political-conducting",
   "metadata": {},
   "source": [
    "Una de las variables que más infuyen en el resultado es la llamada *Risk*. Su efecto se puede ver en la siguiente gráfica de barras, donde se muestran los resultados por cada tipo de *riesgo* .\n",
    "\n",
    "Decidimos agrupar los datos que no definen si un establecimiento pasó la inspección o no en la variable *others* ."
   ]
  },
  {
   "cell_type": "code",
   "execution_count": 133,
   "id": "sufficient-toolbox",
   "metadata": {},
   "outputs": [
    {
     "data": {
      "image/png": "[encoded data removed]",
      "text/plain": [
       "<Figure size 720x360 with 1 Axes>"
      ]
     },
     "metadata": {
      "needs_background": "light"
     },
     "output_type": "display_data"
    }
   ],
   "source": [
    "riesgo = df[['risk', 'results', 'inspection_id']].\\\n",
    "groupby(['risk', 'results']).count().unstack()['inspection_id'].\\\n",
    "plot.bar(stacked=True, \n",
    "         figsize=(10,5), \n",
    "         ylabel = 'Número de registros', \n",
    "         color = colores)\n",
    "fmt = '{x:,.0f}'\n",
    "tick = mtick.StrMethodFormatter(fmt)\n",
    "riesgo.yaxis.set_major_formatter(tick)\n",
    "plt.show()"
   ]
  },
  {
   "cell_type": "markdown",
   "id": "essential-milton",
   "metadata": {},
   "source": [
    "### Violaciones"
   ]
  },
  {
   "cell_type": "markdown",
   "id": "continuing-parliament",
   "metadata": {},
   "source": [
    "Otra variable que influye en gran medida en los resultados es la de las violaciones. En este caso se grafican todas aquellos registros con violaciones (True) y todas los registros sin violaciones (False) para cada uno de los resultados."
   ]
  },
  {
   "cell_type": "code",
   "execution_count": 134,
   "id": "spectacular-importance",
   "metadata": {},
   "outputs": [
    {
     "name": "stderr",
     "output_type": "stream",
     "text": [
      "<ipython-input-134-90140151d6de>:2: SettingWithCopyWarning:\n",
      "\n",
      "\n",
      "A value is trying to be set on a copy of a slice from a DataFrame.\n",
      "Try using .loc[row_indexer,col_indexer] = value instead\n",
      "\n",
      "See the caveats in the documentation: https://pandas.pydata.org/pandas-docs/stable/user_guide/indexing.html#returning-a-view-versus-a-copy\n",
      "\n"
     ]
    },
    {
     "data": {
      "image/png": "[encoded data removed]",
      "text/plain": [
       "<Figure size 720x360 with 1 Axes>"
      ]
     },
     "metadata": {
      "needs_background": "light"
     },
     "output_type": "display_data"
    }
   ],
   "source": [
    "df_viol = df[['inspection_id','violations', 'results']]\n",
    "df_viol['violation'] = df_viol.violations.notnull()\n",
    "viol = df_viol[['violation', 'results', 'inspection_id']].sort_values(by='results').\\\n",
    "groupby(['violation', 'results']).count().unstack()['inspection_id'].\\\n",
    "plot.bar(stacked=True, \n",
    "         figsize=(10,5), \n",
    "         xlabel = 'Tiene violación',\n",
    "         ylabel = 'Número de registros',\n",
    "         color= colores)\n",
    "fmt = '{x:,.0f}'\n",
    "tick = mtick.StrMethodFormatter(fmt)\n",
    "viol.yaxis.set_major_formatter(tick)\n",
    "plt.show()"
   ]
  }
 ],
 "metadata": {
  "kernelspec": {
   "display_name": "Python 3",
   "language": "python",
   "name": "python3"
  },
  "language_info": {
   "codemirror_mode": {
    "name": "ipython",
    "version": 3
   },
   "file_extension": ".py",
   "mimetype": "text/x-python",
   "name": "python",
   "nbconvert_exporter": "python",
   "pygments_lexer": "ipython3",
   "version": "3.8.6"
  }
 },
 "nbformat": 4,
 "nbformat_minor": 5
}
