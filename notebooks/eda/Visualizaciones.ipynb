{
 "cells": [
  {
   "cell_type": "code",
   "execution_count": 1,
   "metadata": {},
   "outputs": [],
   "source": [
    "import numpy as np\n",
    "import pandas as pd\n",
    "import matplotlib.pyplot as plt\n",
    "import plotly.express as px"
   ]
  },
  {
   "cell_type": "markdown",
   "metadata": {},
   "source": [
    "Primero se leen los datos históricos"
   ]
  },
  {
   "cell_type": "code",
   "execution_count": 2,
   "metadata": {},
   "outputs": [],
   "source": [
    "df = pd.read_csv('./Food_Inspections.csv')"
   ]
  },
  {
   "cell_type": "markdown",
   "metadata": {},
   "source": [
    "## Summary"
   ]
  },
  {
   "cell_type": "code",
   "execution_count": 3,
   "metadata": {},
   "outputs": [
    {
     "data": {
      "text/html": [
       "<div>\n",
       "<style scoped>\n",
       "    .dataframe tbody tr th:only-of-type {\n",
       "        vertical-align: middle;\n",
       "    }\n",
       "\n",
       "    .dataframe tbody tr th {\n",
       "        vertical-align: top;\n",
       "    }\n",
       "\n",
       "    .dataframe thead th {\n",
       "        text-align: right;\n",
       "    }\n",
       "</style>\n",
       "<table border=\"1\" class=\"dataframe\">\n",
       "  <thead>\n",
       "    <tr style=\"text-align: right;\">\n",
       "      <th></th>\n",
       "      <th>Inspection ID</th>\n",
       "      <th>DBA Name</th>\n",
       "      <th>AKA Name</th>\n",
       "      <th>License #</th>\n",
       "      <th>Facility Type</th>\n",
       "      <th>Risk</th>\n",
       "      <th>Address</th>\n",
       "      <th>City</th>\n",
       "      <th>State</th>\n",
       "      <th>Zip</th>\n",
       "      <th>Inspection Date</th>\n",
       "      <th>Inspection Type</th>\n",
       "      <th>Results</th>\n",
       "      <th>Violations</th>\n",
       "      <th>Latitude</th>\n",
       "      <th>Longitude</th>\n",
       "      <th>Location</th>\n",
       "    </tr>\n",
       "  </thead>\n",
       "  <tbody>\n",
       "    <tr>\n",
       "      <th>143131</th>\n",
       "      <td>1361461</td>\n",
       "      <td>PIE-EYED PIZZERIA</td>\n",
       "      <td>PIE-EYED PIZZERIA</td>\n",
       "      <td>1490003.0</td>\n",
       "      <td>Restaurant</td>\n",
       "      <td>Risk 2 (Medium)</td>\n",
       "      <td>1111 W CHICAGO AVE</td>\n",
       "      <td>CHICAGO</td>\n",
       "      <td>IL</td>\n",
       "      <td>60642.0</td>\n",
       "      <td>10/31/2013</td>\n",
       "      <td>Canvass</td>\n",
       "      <td>Pass</td>\n",
       "      <td>33. FOOD AND NON-FOOD CONTACT EQUIPMENT UTENSI...</td>\n",
       "      <td>41.896151</td>\n",
       "      <td>-87.655800</td>\n",
       "      <td>(-87.65579995878325, 41.89615078732556)</td>\n",
       "    </tr>\n",
       "    <tr>\n",
       "      <th>101298</th>\n",
       "      <td>1631289</td>\n",
       "      <td>PORTILLO'S HOT DOGS</td>\n",
       "      <td>PORTILLO'S HOT DOGS</td>\n",
       "      <td>39472.0</td>\n",
       "      <td>Restaurant</td>\n",
       "      <td>Risk 1 (High)</td>\n",
       "      <td>100 W ONTARIO ST</td>\n",
       "      <td>CHICAGO</td>\n",
       "      <td>IL</td>\n",
       "      <td>60654.0</td>\n",
       "      <td>02/03/2016</td>\n",
       "      <td>Complaint</td>\n",
       "      <td>Fail</td>\n",
       "      <td>18. NO EVIDENCE OF RODENT OR INSECT OUTER OPEN...</td>\n",
       "      <td>41.893338</td>\n",
       "      <td>-87.631244</td>\n",
       "      <td>(-87.63124449621304, 41.89333773718407)</td>\n",
       "    </tr>\n",
       "    <tr>\n",
       "      <th>166932</th>\n",
       "      <td>1096608</td>\n",
       "      <td>HYATT REGENCY MCCORMICK PLACE</td>\n",
       "      <td>THIRD STAR/SIXES &amp; EIGHTS/MAIN KITCHEN</td>\n",
       "      <td>63178.0</td>\n",
       "      <td>RESTAURANT/BAR</td>\n",
       "      <td>Risk 1 (High)</td>\n",
       "      <td>2233 S DR MARTIN LUTHER KING JR DR</td>\n",
       "      <td>CHICAGO</td>\n",
       "      <td>IL</td>\n",
       "      <td>60616.0</td>\n",
       "      <td>11/02/2012</td>\n",
       "      <td>Complaint</td>\n",
       "      <td>Fail</td>\n",
       "      <td>18. NO EVIDENCE OF RODENT OR INSECT OUTER OPEN...</td>\n",
       "      <td>41.852076</td>\n",
       "      <td>-87.618851</td>\n",
       "      <td>(-87.61885080391755, 41.852075574499366)</td>\n",
       "    </tr>\n",
       "    <tr>\n",
       "      <th>57998</th>\n",
       "      <td>2129691</td>\n",
       "      <td>WENTWORTH SEAFOOD HOUSE</td>\n",
       "      <td>WENTWORTH SEAFOOD HOUSE</td>\n",
       "      <td>2574484.0</td>\n",
       "      <td>Restaurant</td>\n",
       "      <td>Risk 1 (High)</td>\n",
       "      <td>2229 S WENTWORTH AVE</td>\n",
       "      <td>CHICAGO</td>\n",
       "      <td>IL</td>\n",
       "      <td>60616.0</td>\n",
       "      <td>12/26/2017</td>\n",
       "      <td>License</td>\n",
       "      <td>No Entry</td>\n",
       "      <td>NaN</td>\n",
       "      <td>41.852023</td>\n",
       "      <td>-87.631848</td>\n",
       "      <td>(-87.63184844304722, 41.852023150198406)</td>\n",
       "    </tr>\n",
       "    <tr>\n",
       "      <th>3626</th>\n",
       "      <td>679544</td>\n",
       "      <td>NELSON FOOD &amp; LIQUOR</td>\n",
       "      <td>NELSON FOOD &amp; LIQUOR</td>\n",
       "      <td>2114980.0</td>\n",
       "      <td>Grocery Store</td>\n",
       "      <td>Risk 3 (Low)</td>\n",
       "      <td>3201 W 63RD PL</td>\n",
       "      <td>CHICAGO</td>\n",
       "      <td>IL</td>\n",
       "      <td>60629.0</td>\n",
       "      <td>04/04/2012</td>\n",
       "      <td>License Re-Inspection</td>\n",
       "      <td>Pass</td>\n",
       "      <td>NaN</td>\n",
       "      <td>41.777936</td>\n",
       "      <td>-87.703224</td>\n",
       "      <td>(-87.70322438611822, 41.77793576167579)</td>\n",
       "    </tr>\n",
       "  </tbody>\n",
       "</table>\n",
       "</div>"
      ],
      "text/plain": [
       "        Inspection ID                       DBA Name  \\\n",
       "143131        1361461              PIE-EYED PIZZERIA   \n",
       "101298        1631289            PORTILLO'S HOT DOGS   \n",
       "166932        1096608  HYATT REGENCY MCCORMICK PLACE   \n",
       "57998         2129691        WENTWORTH SEAFOOD HOUSE   \n",
       "3626           679544           NELSON FOOD & LIQUOR   \n",
       "\n",
       "                                      AKA Name  License #   Facility Type  \\\n",
       "143131                       PIE-EYED PIZZERIA  1490003.0      Restaurant   \n",
       "101298                     PORTILLO'S HOT DOGS    39472.0      Restaurant   \n",
       "166932  THIRD STAR/SIXES & EIGHTS/MAIN KITCHEN    63178.0  RESTAURANT/BAR   \n",
       "57998                  WENTWORTH SEAFOOD HOUSE  2574484.0      Restaurant   \n",
       "3626                      NELSON FOOD & LIQUOR  2114980.0   Grocery Store   \n",
       "\n",
       "                   Risk                              Address     City State  \\\n",
       "143131  Risk 2 (Medium)                  1111 W CHICAGO AVE   CHICAGO    IL   \n",
       "101298    Risk 1 (High)                    100 W ONTARIO ST   CHICAGO    IL   \n",
       "166932    Risk 1 (High)  2233 S DR MARTIN LUTHER KING JR DR   CHICAGO    IL   \n",
       "57998     Risk 1 (High)                2229 S WENTWORTH AVE   CHICAGO    IL   \n",
       "3626       Risk 3 (Low)                      3201 W 63RD PL   CHICAGO    IL   \n",
       "\n",
       "            Zip Inspection Date        Inspection Type   Results  \\\n",
       "143131  60642.0      10/31/2013                Canvass      Pass   \n",
       "101298  60654.0      02/03/2016              Complaint      Fail   \n",
       "166932  60616.0      11/02/2012              Complaint      Fail   \n",
       "57998   60616.0      12/26/2017                License  No Entry   \n",
       "3626    60629.0      04/04/2012  License Re-Inspection      Pass   \n",
       "\n",
       "                                               Violations   Latitude  \\\n",
       "143131  33. FOOD AND NON-FOOD CONTACT EQUIPMENT UTENSI...  41.896151   \n",
       "101298  18. NO EVIDENCE OF RODENT OR INSECT OUTER OPEN...  41.893338   \n",
       "166932  18. NO EVIDENCE OF RODENT OR INSECT OUTER OPEN...  41.852076   \n",
       "57998                                                 NaN  41.852023   \n",
       "3626                                                  NaN  41.777936   \n",
       "\n",
       "        Longitude                                  Location  \n",
       "143131 -87.655800   (-87.65579995878325, 41.89615078732556)  \n",
       "101298 -87.631244   (-87.63124449621304, 41.89333773718407)  \n",
       "166932 -87.618851  (-87.61885080391755, 41.852075574499366)  \n",
       "57998  -87.631848  (-87.63184844304722, 41.852023150198406)  \n",
       "3626   -87.703224   (-87.70322438611822, 41.77793576167579)  "
      ]
     },
     "execution_count": 3,
     "metadata": {},
     "output_type": "execute_result"
    }
   ],
   "source": [
    "df.sample(5,random_state=2020)"
   ]
  },
  {
   "cell_type": "code",
   "execution_count": 4,
   "metadata": {},
   "outputs": [
    {
     "data": {
      "text/plain": [
       "(215067, 17)"
      ]
     },
     "execution_count": 4,
     "metadata": {},
     "output_type": "execute_result"
    }
   ],
   "source": [
    "df.shape"
   ]
  },
  {
   "cell_type": "markdown",
   "metadata": {},
   "source": [
    "## Preprocesamiento\n",
    "\n",
    "Se hace una limpieza en los nombres de columnas, em los datos y un preprocesamiento rápido para mejorar las visualizaciones del EDA."
   ]
  },
  {
   "cell_type": "code",
   "execution_count": 5,
   "metadata": {},
   "outputs": [],
   "source": [
    "def estandariza_variables(archivo):\n",
    "    columnas_antes=archivo.columns\n",
    "    archivo.columns=archivo.columns.str.replace(' ','_')\n",
    "    archivo.columns=archivo.columns.str.replace('#','num')\n",
    "    archivo.columns=archivo.columns.str.lower()\n",
    "    print('Las variables originales son:\\n\\n',columnas_antes,'\\n','\\nY se renombran como:\\n\\n',archivo.columns)"
   ]
  },
  {
   "cell_type": "code",
   "execution_count": 6,
   "metadata": {},
   "outputs": [
    {
     "name": "stdout",
     "output_type": "stream",
     "text": [
      "Las variables originales son:\n",
      "\n",
      " Index(['Inspection ID', 'DBA Name', 'AKA Name', 'License #', 'Facility Type',\n",
      "       'Risk', 'Address', 'City', 'State', 'Zip', 'Inspection Date',\n",
      "       'Inspection Type', 'Results', 'Violations', 'Latitude', 'Longitude',\n",
      "       'Location'],\n",
      "      dtype='object') \n",
      " \n",
      "Y se renombran como:\n",
      "\n",
      " Index(['inspection_id', 'dba_name', 'aka_name', 'license_num', 'facility_type',\n",
      "       'risk', 'address', 'city', 'state', 'zip', 'inspection_date',\n",
      "       'inspection_type', 'results', 'violations', 'latitude', 'longitude',\n",
      "       'location'],\n",
      "      dtype='object')\n"
     ]
    }
   ],
   "source": [
    "estandariza_variables(df)"
   ]
  },
  {
   "cell_type": "markdown",
   "metadata": {},
   "source": [
    "Luego pasamos los datos a minúsculas:"
   ]
  },
  {
   "cell_type": "code",
   "execution_count": 7,
   "metadata": {},
   "outputs": [],
   "source": [
    "def cambiar_minusculas_variable(archivo,variable):\n",
    "    archivo[variable]=archivo[variable].str.lower()"
   ]
  },
  {
   "cell_type": "code",
   "execution_count": 8,
   "metadata": {},
   "outputs": [],
   "source": [
    "cambiar_minusculas_variable(df,'dba_name')\n",
    "cambiar_minusculas_variable(df,'aka_name')\n",
    "cambiar_minusculas_variable(df,'facility_type')\n",
    "cambiar_minusculas_variable(df,'risk')\n",
    "cambiar_minusculas_variable(df,'address')\n",
    "cambiar_minusculas_variable(df,'city')\n",
    "cambiar_minusculas_variable(df,'state')\n",
    "cambiar_minusculas_variable(df,'inspection_type')\n",
    "cambiar_minusculas_variable(df,'results')\n",
    "cambiar_minusculas_variable(df,'violations')"
   ]
  },
  {
   "cell_type": "markdown",
   "metadata": {},
   "source": [
    "Verificamos el tipo de dato para cada columna."
   ]
  },
  {
   "cell_type": "code",
   "execution_count": 9,
   "metadata": {},
   "outputs": [],
   "source": [
    "def tipo_variables(archivo):\n",
    "    print('\\nTipo de variables:\\n', archivo.dtypes)"
   ]
  },
  {
   "cell_type": "code",
   "execution_count": 10,
   "metadata": {},
   "outputs": [
    {
     "name": "stdout",
     "output_type": "stream",
     "text": [
      "\n",
      "Tipo de variables:\n",
      " inspection_id        int64\n",
      "dba_name            object\n",
      "aka_name            object\n",
      "license_num        float64\n",
      "facility_type       object\n",
      "risk                object\n",
      "address             object\n",
      "city                object\n",
      "state               object\n",
      "zip                float64\n",
      "inspection_date     object\n",
      "inspection_type     object\n",
      "results             object\n",
      "violations          object\n",
      "latitude           float64\n",
      "longitude          float64\n",
      "location            object\n",
      "dtype: object\n"
     ]
    }
   ],
   "source": [
    "tipo_variables(df)"
   ]
  },
  {
   "cell_type": "markdown",
   "metadata": {},
   "source": [
    "Y corregimos los tipos de datos de las variables al correcto de acuerdo a la descripción de las variables:"
   ]
  },
  {
   "cell_type": "code",
   "execution_count": 11,
   "metadata": {},
   "outputs": [],
   "source": [
    "df['inspection_id']=df['inspection_id'].astype('str')\n",
    "df['license_num']=df['license_num'].astype('str')\n",
    "df['zip']=df['zip'].astype('str')\n",
    "df['license_num']=df['license_num'].astype('str')\n",
    "df['inspection_date'] = pd.to_datetime(df['inspection_date'], format='%m/%d/%Y')"
   ]
  },
  {
   "cell_type": "code",
   "execution_count": 12,
   "metadata": {},
   "outputs": [
    {
     "name": "stdout",
     "output_type": "stream",
     "text": [
      "\n",
      "Tipo de variables:\n",
      " inspection_id              object\n",
      "dba_name                   object\n",
      "aka_name                   object\n",
      "license_num                object\n",
      "facility_type              object\n",
      "risk                       object\n",
      "address                    object\n",
      "city                       object\n",
      "state                      object\n",
      "zip                        object\n",
      "inspection_date    datetime64[ns]\n",
      "inspection_type            object\n",
      "results                    object\n",
      "violations                 object\n",
      "latitude                  float64\n",
      "longitude                 float64\n",
      "location                   object\n",
      "dtype: object\n"
     ]
    }
   ],
   "source": [
    "tipo_variables(df)"
   ]
  },
  {
   "cell_type": "markdown",
   "metadata": {},
   "source": [
    "Quedando de la siguiente forma:"
   ]
  },
  {
   "cell_type": "code",
   "execution_count": 13,
   "metadata": {},
   "outputs": [
    {
     "data": {
      "text/html": [
       "<div>\n",
       "<style scoped>\n",
       "    .dataframe tbody tr th:only-of-type {\n",
       "        vertical-align: middle;\n",
       "    }\n",
       "\n",
       "    .dataframe tbody tr th {\n",
       "        vertical-align: top;\n",
       "    }\n",
       "\n",
       "    .dataframe thead th {\n",
       "        text-align: right;\n",
       "    }\n",
       "</style>\n",
       "<table border=\"1\" class=\"dataframe\">\n",
       "  <thead>\n",
       "    <tr style=\"text-align: right;\">\n",
       "      <th></th>\n",
       "      <th>inspection_id</th>\n",
       "      <th>dba_name</th>\n",
       "      <th>aka_name</th>\n",
       "      <th>license_num</th>\n",
       "      <th>facility_type</th>\n",
       "      <th>risk</th>\n",
       "      <th>address</th>\n",
       "      <th>city</th>\n",
       "      <th>state</th>\n",
       "      <th>zip</th>\n",
       "      <th>inspection_date</th>\n",
       "      <th>inspection_type</th>\n",
       "      <th>results</th>\n",
       "      <th>violations</th>\n",
       "      <th>latitude</th>\n",
       "      <th>longitude</th>\n",
       "      <th>location</th>\n",
       "    </tr>\n",
       "  </thead>\n",
       "  <tbody>\n",
       "    <tr>\n",
       "      <th>143131</th>\n",
       "      <td>1361461</td>\n",
       "      <td>pie-eyed pizzeria</td>\n",
       "      <td>pie-eyed pizzeria</td>\n",
       "      <td>1490003.0</td>\n",
       "      <td>restaurant</td>\n",
       "      <td>risk 2 (medium)</td>\n",
       "      <td>1111 w chicago ave</td>\n",
       "      <td>chicago</td>\n",
       "      <td>il</td>\n",
       "      <td>60642.0</td>\n",
       "      <td>2013-10-31</td>\n",
       "      <td>canvass</td>\n",
       "      <td>pass</td>\n",
       "      <td>33. food and non-food contact equipment utensi...</td>\n",
       "      <td>41.896151</td>\n",
       "      <td>-87.655800</td>\n",
       "      <td>(-87.65579995878325, 41.89615078732556)</td>\n",
       "    </tr>\n",
       "    <tr>\n",
       "      <th>101298</th>\n",
       "      <td>1631289</td>\n",
       "      <td>portillo's hot dogs</td>\n",
       "      <td>portillo's hot dogs</td>\n",
       "      <td>39472.0</td>\n",
       "      <td>restaurant</td>\n",
       "      <td>risk 1 (high)</td>\n",
       "      <td>100 w ontario st</td>\n",
       "      <td>chicago</td>\n",
       "      <td>il</td>\n",
       "      <td>60654.0</td>\n",
       "      <td>2016-02-03</td>\n",
       "      <td>complaint</td>\n",
       "      <td>fail</td>\n",
       "      <td>18. no evidence of rodent or insect outer open...</td>\n",
       "      <td>41.893338</td>\n",
       "      <td>-87.631244</td>\n",
       "      <td>(-87.63124449621304, 41.89333773718407)</td>\n",
       "    </tr>\n",
       "    <tr>\n",
       "      <th>166932</th>\n",
       "      <td>1096608</td>\n",
       "      <td>hyatt regency mccormick place</td>\n",
       "      <td>third star/sixes &amp; eights/main kitchen</td>\n",
       "      <td>63178.0</td>\n",
       "      <td>restaurant/bar</td>\n",
       "      <td>risk 1 (high)</td>\n",
       "      <td>2233 s dr martin luther king jr dr</td>\n",
       "      <td>chicago</td>\n",
       "      <td>il</td>\n",
       "      <td>60616.0</td>\n",
       "      <td>2012-11-02</td>\n",
       "      <td>complaint</td>\n",
       "      <td>fail</td>\n",
       "      <td>18. no evidence of rodent or insect outer open...</td>\n",
       "      <td>41.852076</td>\n",
       "      <td>-87.618851</td>\n",
       "      <td>(-87.61885080391755, 41.852075574499366)</td>\n",
       "    </tr>\n",
       "    <tr>\n",
       "      <th>57998</th>\n",
       "      <td>2129691</td>\n",
       "      <td>wentworth seafood house</td>\n",
       "      <td>wentworth seafood house</td>\n",
       "      <td>2574484.0</td>\n",
       "      <td>restaurant</td>\n",
       "      <td>risk 1 (high)</td>\n",
       "      <td>2229 s wentworth ave</td>\n",
       "      <td>chicago</td>\n",
       "      <td>il</td>\n",
       "      <td>60616.0</td>\n",
       "      <td>2017-12-26</td>\n",
       "      <td>license</td>\n",
       "      <td>no entry</td>\n",
       "      <td>NaN</td>\n",
       "      <td>41.852023</td>\n",
       "      <td>-87.631848</td>\n",
       "      <td>(-87.63184844304722, 41.852023150198406)</td>\n",
       "    </tr>\n",
       "    <tr>\n",
       "      <th>3626</th>\n",
       "      <td>679544</td>\n",
       "      <td>nelson food &amp; liquor</td>\n",
       "      <td>nelson food &amp; liquor</td>\n",
       "      <td>2114980.0</td>\n",
       "      <td>grocery store</td>\n",
       "      <td>risk 3 (low)</td>\n",
       "      <td>3201 w 63rd pl</td>\n",
       "      <td>chicago</td>\n",
       "      <td>il</td>\n",
       "      <td>60629.0</td>\n",
       "      <td>2012-04-04</td>\n",
       "      <td>license re-inspection</td>\n",
       "      <td>pass</td>\n",
       "      <td>NaN</td>\n",
       "      <td>41.777936</td>\n",
       "      <td>-87.703224</td>\n",
       "      <td>(-87.70322438611822, 41.77793576167579)</td>\n",
       "    </tr>\n",
       "  </tbody>\n",
       "</table>\n",
       "</div>"
      ],
      "text/plain": [
       "       inspection_id                       dba_name  \\\n",
       "143131       1361461              pie-eyed pizzeria   \n",
       "101298       1631289            portillo's hot dogs   \n",
       "166932       1096608  hyatt regency mccormick place   \n",
       "57998        2129691        wentworth seafood house   \n",
       "3626          679544           nelson food & liquor   \n",
       "\n",
       "                                      aka_name license_num   facility_type  \\\n",
       "143131                       pie-eyed pizzeria   1490003.0      restaurant   \n",
       "101298                     portillo's hot dogs     39472.0      restaurant   \n",
       "166932  third star/sixes & eights/main kitchen     63178.0  restaurant/bar   \n",
       "57998                  wentworth seafood house   2574484.0      restaurant   \n",
       "3626                      nelson food & liquor   2114980.0   grocery store   \n",
       "\n",
       "                   risk                              address     city state  \\\n",
       "143131  risk 2 (medium)                  1111 w chicago ave   chicago    il   \n",
       "101298    risk 1 (high)                    100 w ontario st   chicago    il   \n",
       "166932    risk 1 (high)  2233 s dr martin luther king jr dr   chicago    il   \n",
       "57998     risk 1 (high)                2229 s wentworth ave   chicago    il   \n",
       "3626       risk 3 (low)                      3201 w 63rd pl   chicago    il   \n",
       "\n",
       "            zip inspection_date        inspection_type   results  \\\n",
       "143131  60642.0      2013-10-31                canvass      pass   \n",
       "101298  60654.0      2016-02-03              complaint      fail   \n",
       "166932  60616.0      2012-11-02              complaint      fail   \n",
       "57998   60616.0      2017-12-26                license  no entry   \n",
       "3626    60629.0      2012-04-04  license re-inspection      pass   \n",
       "\n",
       "                                               violations   latitude  \\\n",
       "143131  33. food and non-food contact equipment utensi...  41.896151   \n",
       "101298  18. no evidence of rodent or insect outer open...  41.893338   \n",
       "166932  18. no evidence of rodent or insect outer open...  41.852076   \n",
       "57998                                                 NaN  41.852023   \n",
       "3626                                                  NaN  41.777936   \n",
       "\n",
       "        longitude                                  location  \n",
       "143131 -87.655800   (-87.65579995878325, 41.89615078732556)  \n",
       "101298 -87.631244   (-87.63124449621304, 41.89333773718407)  \n",
       "166932 -87.618851  (-87.61885080391755, 41.852075574499366)  \n",
       "57998  -87.631848  (-87.63184844304722, 41.852023150198406)  \n",
       "3626   -87.703224   (-87.70322438611822, 41.77793576167579)  "
      ]
     },
     "execution_count": 13,
     "metadata": {},
     "output_type": "execute_result"
    }
   ],
   "source": [
    "df.sample(5,random_state=2020)"
   ]
  },
  {
   "cell_type": "markdown",
   "metadata": {},
   "source": [
    "Luego revisamos los posibles valores de la variable con el resultado de la inspección:"
   ]
  },
  {
   "cell_type": "code",
   "execution_count": 14,
   "metadata": {},
   "outputs": [
    {
     "data": {
      "text/plain": [
       "array(['no entry', 'pass', 'out of business', 'fail',\n",
       "       'pass w/ conditions', 'not ready', 'business not located'],\n",
       "      dtype=object)"
      ]
     },
     "execution_count": 14,
     "metadata": {},
     "output_type": "execute_result"
    }
   ],
   "source": [
    "df.results.unique()"
   ]
  },
  {
   "cell_type": "code",
   "execution_count": 15,
   "metadata": {},
   "outputs": [],
   "source": [
    "dic_results = {'pass': 'pass',\n",
    "               'out of business': 'others',\n",
    "               'no entry': 'others',\n",
    "               'fail': 'fail',\n",
    "               'not ready': 'others',\n",
    "               'pass w/ Conditions': 'pass w/ conditions',\n",
    "               'business not located': 'others'}\n",
    "df['results'] = df.results.map(dic_results)"
   ]
  },
  {
   "cell_type": "code",
   "execution_count": 16,
   "metadata": {},
   "outputs": [],
   "source": [
    "colores = ['red', 'blue', 'green', 'yellow']"
   ]
  },
  {
   "cell_type": "markdown",
   "metadata": {},
   "source": [
    "## Risk"
   ]
  },
  {
   "cell_type": "markdown",
   "metadata": {},
   "source": [
    "Una de las variables que más infuyen en el resultado es la llamada *Risk*. Su efecto se puede ver en la siguiente gráfica de barras, donde se puestran los resultados por cada tipo de *riesgo* ."
   ]
  },
  {
   "cell_type": "code",
   "execution_count": 17,
   "metadata": {},
   "outputs": [
    {
     "data": {
      "image/png": "[encoded data removed]",
      "text/plain": [
       "<Figure size 720x360 with 1 Axes>"
      ]
     },
     "metadata": {
      "needs_background": "light"
     },
     "output_type": "display_data"
    }
   ],
   "source": [
    "df[['risk', 'results', 'inspection_id']].\\\n",
    "groupby(['risk', 'results']).count().unstack()['inspection_id'].\\\n",
    "plot.bar(stacked=True, \n",
    "         figsize=(10,5), \n",
    "         ylabel = 'Número de registros', \n",
    "         color = colores)\n",
    "plt.show()"
   ]
  },
  {
   "cell_type": "code",
   "execution_count": 17,
   "metadata": {},
   "outputs": [
    {
     "data": {
      "image/png": "[encoded data removed]",
      "text/plain": [
       "<Figure size 720x360 with 1 Axes>"
      ]
     },
     "metadata": {
      "needs_background": "light"
     },
     "output_type": "display_data"
    }
   ],
   "source": [
    "df[['risk', 'results', 'inspection_id']].\\\n",
    "groupby(['risk', 'results']).count().unstack()['inspection_id'].\\\n",
    "plot.bar(stacked=True, \n",
    "         figsize=(10,5), \n",
    "         ylabel = 'Número de registros', \n",
    "         color = colores)\n",
    "plt.show()"
   ]
  },
  {
   "cell_type": "markdown",
   "metadata": {},
   "source": [
    "## Violations"
   ]
  },
  {
   "cell_type": "markdown",
   "metadata": {},
   "source": [
    "Otra variable que influye en gran medida en los resultados es la de las violaciones. En este caso se grafican todas aquellos registros con violaciones (True) y todas los registros sin violaciones (False) para cada uno de los resultados."
   ]
  },
  {
   "cell_type": "code",
   "execution_count": 18,
   "metadata": {},
   "outputs": [
    {
     "name": "stderr",
     "output_type": "stream",
     "text": [
      "<ipython-input-18-063c7ce4c696>:2: SettingWithCopyWarning: \n",
      "A value is trying to be set on a copy of a slice from a DataFrame.\n",
      "Try using .loc[row_indexer,col_indexer] = value instead\n",
      "\n",
      "See the caveats in the documentation: https://pandas.pydata.org/pandas-docs/stable/user_guide/indexing.html#returning-a-view-versus-a-copy\n",
      "  df_viol['violation'] = df_viol.violations.notnull()\n"
     ]
    },
    {
     "data": {
      "image/png": "[encoded data removed]",
      "text/plain": [
       "<Figure size 720x360 with 1 Axes>"
      ]
     },
     "metadata": {
      "needs_background": "light"
     },
     "output_type": "display_data"
    }
   ],
   "source": [
    "df_viol = df[['inspection_id','violations', 'results']]\n",
    "df_viol['violation'] = df_viol.violations.notnull()\n",
    "df_viol[['violation', 'results', 'inspection_id']].sort_values(by='results').\\\n",
    "groupby(['violation', 'results']).count().unstack()['inspection_id'].\\\n",
    "plot.bar(stacked=True, \n",
    "         figsize=(10,5), \n",
    "         xlabel = 'Tiene violacion',\n",
    "         ylabel = 'Número de registros',\n",
    "         color= colores)\n",
    "plt.show()"
   ]
  },
  {
   "cell_type": "markdown",
   "metadata": {},
   "source": [
    "## Mapa"
   ]
  },
  {
   "cell_type": "markdown",
   "metadata": {},
   "source": [
    "En el mapa se muestra la ubicación de todos los restaurantes, distinguiendo los distintos tipos de resultados de la Inspección. Dado que el mapa es interactivo, no fue posible mantener visible el mapa por lo que agregamos una imagen del mismo después de código que genera dicho mapa:"
   ]
  },
  {
   "cell_type": "code",
   "execution_count": 22,
   "metadata": {},
   "outputs": [
    {
     "data": {
      "text/plain": [
       "array(['others', 'pass', 'fail', nan], dtype=object)"
      ]
     },
     "execution_count": 22,
     "metadata": {},
     "output_type": "execute_result"
    }
   ],
   "source": [
    "df.results.unique()"
   ]
  },
  {
   "cell_type": "code",
   "execution_count": 23,
   "metadata": {},
   "outputs": [
    {
     "ename": "KeyError",
     "evalue": "(nan, '')",
     "output_type": "error",
     "traceback": [
      "\u001b[0;31m---------------------------------------------------------------------------\u001b[0m",
      "\u001b[0;31mKeyError\u001b[0m                                  Traceback (most recent call last)",
      "\u001b[0;32m<ipython-input-23-b726a315a986>\u001b[0m in \u001b[0;36m<module>\u001b[0;34m\u001b[0m\n\u001b[1;32m      1\u001b[0m \u001b[0mfecha_inicial\u001b[0m \u001b[0;34m=\u001b[0m \u001b[0;34m'2021-01-01'\u001b[0m\u001b[0;34m\u001b[0m\u001b[0;34m\u001b[0m\u001b[0m\n\u001b[1;32m      2\u001b[0m \u001b[0mdf_map\u001b[0m \u001b[0;34m=\u001b[0m \u001b[0mdf\u001b[0m\u001b[0;34m[\u001b[0m\u001b[0;34m(\u001b[0m\u001b[0mdf\u001b[0m\u001b[0;34m.\u001b[0m\u001b[0minspection_date\u001b[0m \u001b[0;34m>=\u001b[0m \u001b[0mfecha_inicial\u001b[0m\u001b[0;34m)\u001b[0m \u001b[0;34m&\u001b[0m \u001b[0;34m(\u001b[0m\u001b[0mdf\u001b[0m\u001b[0;34m.\u001b[0m\u001b[0mresults\u001b[0m \u001b[0;34m!=\u001b[0m \u001b[0;34m'others'\u001b[0m\u001b[0;34m)\u001b[0m\u001b[0;34m]\u001b[0m\u001b[0;34m\u001b[0m\u001b[0;34m\u001b[0m\u001b[0m\n\u001b[0;32m----> 3\u001b[0;31m fig = px.scatter_mapbox(df_map.sort_values(by='results'), \n\u001b[0m\u001b[1;32m      4\u001b[0m                         \u001b[0mlat\u001b[0m \u001b[0;34m=\u001b[0m \u001b[0;34m\"latitude\"\u001b[0m\u001b[0;34m,\u001b[0m\u001b[0;34m\u001b[0m\u001b[0;34m\u001b[0m\u001b[0m\n\u001b[1;32m      5\u001b[0m                         \u001b[0mlon\u001b[0m \u001b[0;34m=\u001b[0m \u001b[0;34m\"longitude\"\u001b[0m\u001b[0;34m,\u001b[0m\u001b[0;34m\u001b[0m\u001b[0;34m\u001b[0m\u001b[0m\n",
      "\u001b[0;32m~/Applications/anaconda3/lib/python3.8/site-packages/plotly/express/_chart_types.py\u001b[0m in \u001b[0;36mscatter_mapbox\u001b[0;34m(data_frame, lat, lon, color, text, hover_name, hover_data, custom_data, size, animation_frame, animation_group, category_orders, labels, color_discrete_sequence, color_discrete_map, color_continuous_scale, range_color, color_continuous_midpoint, opacity, size_max, zoom, center, mapbox_style, title, template, width, height)\u001b[0m\n\u001b[1;32m   1124\u001b[0m     \u001b[0msymbol\u001b[0m \u001b[0mmark\u001b[0m \u001b[0mon\u001b[0m \u001b[0ma\u001b[0m \u001b[0mMapbox\u001b[0m \u001b[0mmap\u001b[0m\u001b[0;34m.\u001b[0m\u001b[0;34m\u001b[0m\u001b[0;34m\u001b[0m\u001b[0m\n\u001b[1;32m   1125\u001b[0m     \"\"\"\n\u001b[0;32m-> 1126\u001b[0;31m     \u001b[0;32mreturn\u001b[0m \u001b[0mmake_figure\u001b[0m\u001b[0;34m(\u001b[0m\u001b[0margs\u001b[0m\u001b[0;34m=\u001b[0m\u001b[0mlocals\u001b[0m\u001b[0;34m(\u001b[0m\u001b[0;34m)\u001b[0m\u001b[0;34m,\u001b[0m \u001b[0mconstructor\u001b[0m\u001b[0;34m=\u001b[0m\u001b[0mgo\u001b[0m\u001b[0;34m.\u001b[0m\u001b[0mScattermapbox\u001b[0m\u001b[0;34m)\u001b[0m\u001b[0;34m\u001b[0m\u001b[0;34m\u001b[0m\u001b[0m\n\u001b[0m\u001b[1;32m   1127\u001b[0m \u001b[0;34m\u001b[0m\u001b[0m\n\u001b[1;32m   1128\u001b[0m \u001b[0;34m\u001b[0m\u001b[0m\n",
      "\u001b[0;32m~/Applications/anaconda3/lib/python3.8/site-packages/plotly/express/_core.py\u001b[0m in \u001b[0;36mmake_figure\u001b[0;34m(args, constructor, trace_patch, layout_patch)\u001b[0m\n\u001b[1;32m   1899\u001b[0m     \u001b[0mtrace_name_labels\u001b[0m \u001b[0;34m=\u001b[0m \u001b[0;32mNone\u001b[0m\u001b[0;34m\u001b[0m\u001b[0;34m\u001b[0m\u001b[0m\n\u001b[1;32m   1900\u001b[0m     \u001b[0;32mfor\u001b[0m \u001b[0mgroup_name\u001b[0m \u001b[0;32min\u001b[0m \u001b[0msorted_group_names\u001b[0m\u001b[0;34m:\u001b[0m\u001b[0;34m\u001b[0m\u001b[0;34m\u001b[0m\u001b[0m\n\u001b[0;32m-> 1901\u001b[0;31m         \u001b[0mgroup\u001b[0m \u001b[0;34m=\u001b[0m \u001b[0mgrouped\u001b[0m\u001b[0;34m.\u001b[0m\u001b[0mget_group\u001b[0m\u001b[0;34m(\u001b[0m\u001b[0mgroup_name\u001b[0m \u001b[0;32mif\u001b[0m \u001b[0mlen\u001b[0m\u001b[0;34m(\u001b[0m\u001b[0mgroup_name\u001b[0m\u001b[0;34m)\u001b[0m \u001b[0;34m>\u001b[0m \u001b[0;36m1\u001b[0m \u001b[0;32melse\u001b[0m \u001b[0mgroup_name\u001b[0m\u001b[0;34m[\u001b[0m\u001b[0;36m0\u001b[0m\u001b[0;34m]\u001b[0m\u001b[0;34m)\u001b[0m\u001b[0;34m\u001b[0m\u001b[0;34m\u001b[0m\u001b[0m\n\u001b[0m\u001b[1;32m   1902\u001b[0m         \u001b[0mmapping_labels\u001b[0m \u001b[0;34m=\u001b[0m \u001b[0mOrderedDict\u001b[0m\u001b[0;34m(\u001b[0m\u001b[0;34m)\u001b[0m\u001b[0;34m\u001b[0m\u001b[0;34m\u001b[0m\u001b[0m\n\u001b[1;32m   1903\u001b[0m         \u001b[0mtrace_name_labels\u001b[0m \u001b[0;34m=\u001b[0m \u001b[0mOrderedDict\u001b[0m\u001b[0;34m(\u001b[0m\u001b[0;34m)\u001b[0m\u001b[0;34m\u001b[0m\u001b[0;34m\u001b[0m\u001b[0m\n",
      "\u001b[0;32m~/Applications/anaconda3/lib/python3.8/site-packages/pandas/core/groupby/groupby.py\u001b[0m in \u001b[0;36mget_group\u001b[0;34m(self, name, obj)\u001b[0m\n\u001b[1;32m    808\u001b[0m         \u001b[0minds\u001b[0m \u001b[0;34m=\u001b[0m \u001b[0mself\u001b[0m\u001b[0;34m.\u001b[0m\u001b[0m_get_index\u001b[0m\u001b[0;34m(\u001b[0m\u001b[0mname\u001b[0m\u001b[0;34m)\u001b[0m\u001b[0;34m\u001b[0m\u001b[0;34m\u001b[0m\u001b[0m\n\u001b[1;32m    809\u001b[0m         \u001b[0;32mif\u001b[0m \u001b[0;32mnot\u001b[0m \u001b[0mlen\u001b[0m\u001b[0;34m(\u001b[0m\u001b[0minds\u001b[0m\u001b[0;34m)\u001b[0m\u001b[0;34m:\u001b[0m\u001b[0;34m\u001b[0m\u001b[0;34m\u001b[0m\u001b[0m\n\u001b[0;32m--> 810\u001b[0;31m             \u001b[0;32mraise\u001b[0m \u001b[0mKeyError\u001b[0m\u001b[0;34m(\u001b[0m\u001b[0mname\u001b[0m\u001b[0;34m)\u001b[0m\u001b[0;34m\u001b[0m\u001b[0;34m\u001b[0m\u001b[0m\n\u001b[0m\u001b[1;32m    811\u001b[0m \u001b[0;34m\u001b[0m\u001b[0m\n\u001b[1;32m    812\u001b[0m         \u001b[0;32mreturn\u001b[0m \u001b[0mobj\u001b[0m\u001b[0;34m.\u001b[0m\u001b[0m_take_with_is_copy\u001b[0m\u001b[0;34m(\u001b[0m\u001b[0minds\u001b[0m\u001b[0;34m,\u001b[0m \u001b[0maxis\u001b[0m\u001b[0;34m=\u001b[0m\u001b[0mself\u001b[0m\u001b[0;34m.\u001b[0m\u001b[0maxis\u001b[0m\u001b[0;34m)\u001b[0m\u001b[0;34m\u001b[0m\u001b[0;34m\u001b[0m\u001b[0m\n",
      "\u001b[0;31mKeyError\u001b[0m: (nan, '')"
     ]
    }
   ],
   "source": [
    "fecha_inicial = '2021-01-01'\n",
    "df_map = df[(df.inspection_date >= fecha_inicial) & (df.results != 'others')]\n",
    "fig = px.scatter_mapbox(df_map.sort_values(by='results'), \n",
    "                        lat = \"latitude\", \n",
    "                        lon = \"longitude\",\n",
    "                        color = \"results\",\n",
    "                        hover_name = \"aka_name\",\n",
    "                        color_discrete_sequence = ['red', 'green', 'yellow'],\n",
    "                        opacity = 0.8,\n",
    "                        zoom = 9, \n",
    "                        mapbox_style= \"open-street-map\",\n",
    "                        center = {\"lat\": 41.9, \"lon\": -87.7})\n",
    "fig.show()"
   ]
  },
  {
   "cell_type": "markdown",
   "metadata": {},
   "source": [
    "<img src=\"https://dl.dropboxusercontent.com/s/pnqr87267dwdv2b/Mapa.jpeg?dl=0\" heigth=\"500\" width=\"1500\">"
   ]
  }
 ],
 "metadata": {
  "kernelspec": {
   "display_name": "Python 3",
   "language": "python",
   "name": "python3"
  },
  "language_info": {
   "codemirror_mode": {
    "name": "ipython",
    "version": 3
   },
   "file_extension": ".py",
   "mimetype": "text/x-python",
   "name": "python",
   "nbconvert_exporter": "python",
   "pygments_lexer": "ipython3",
   "version": "3.8.5"
  }
 },
 "nbformat": 4,
 "nbformat_minor": 5
}
